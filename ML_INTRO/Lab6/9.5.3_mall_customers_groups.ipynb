{
 "cells": [
  {
   "cell_type": "markdown",
   "metadata": {},
   "source": [
    "You are the owner of a supermarket and want to understand the customer's behavior. You must determine who can easily converge and became a loyal client of your supermarket [Target Customers]. To do so you need to group costumers by their behavior so the marketing team can plan their strategies accordingly.\n",
    "\n",
    "The dataset is composed of the following information:\n",
    "* CustomerID\n",
    "* Gender\n",
    "* Age\n",
    "* Annual Income\n",
    "* Spending Score (1-100): An index showing how likely a customer is to spend. Higher values mean this client has a higher probability to spend money in your supermarket."
   ]
  },
  {
   "metadata": {},
   "cell_type": "markdown",
   "source": ""
  },
  {
   "cell_type": "code",
   "metadata": {
    "ExecuteTime": {
     "end_time": "2024-11-26T11:06:09.015886Z",
     "start_time": "2024-11-26T11:06:09.013756Z"
    }
   },
   "source": [
    "#import the libraries to use k-means in the mall_customers dataset\n",
    "import matplotlib.pyplot as plt\n",
    "import pandas as pd\n",
    "from sklearn.cluster import KMeans\n",
    "from sklearn.preprocessing import StandardScaler, LabelEncoder\n",
    "import seaborn as sns\n",
    "from sklearn.metrics import silhouette_score\n"
   ],
   "execution_count": 21,
   "outputs": []
  },
  {
   "cell_type": "markdown",
   "metadata": {},
   "source": [
    "### 1. Load the data"
   ]
  },
  {
   "cell_type": "code",
   "metadata": {
    "ExecuteTime": {
     "end_time": "2024-11-26T11:06:09.525706Z",
     "start_time": "2024-11-26T11:06:09.517933Z"
    }
   },
   "source": [
    "#load the dataset\n",
    "df = pd.read_csv('./data/Mall_Customers.csv')\n",
    "\n",
    "#print the first 5 rows of the dataset\n",
    "df.head()"
   ],
   "execution_count": 22,
   "outputs": []
  },
  {
   "cell_type": "code",
   "metadata": {
    "ExecuteTime": {
     "end_time": "2024-11-26T11:06:09.706954Z",
     "start_time": "2024-11-26T11:06:09.701158Z"
    }
   },
   "source": [
    "df.describe()"
   ],
   "execution_count": 23,
   "outputs": []
  },
  {
   "cell_type": "markdown",
   "metadata": {},
   "source": [
    "### 2. Plot the data distribution\n",
    "\n",
    "For both numerical and categorical values"
   ]
  },
  {
   "cell_type": "code",
   "metadata": {
    "ExecuteTime": {
     "end_time": "2024-11-26T11:06:10.720449Z",
     "start_time": "2024-11-26T11:06:10.114021Z"
    }
   },
   "source": [
    "# Separate categorical and numerical columns\n",
    "categorical_columns = df.select_dtypes(include='object')\n",
    "numerical_columns = df.select_dtypes(include=['int64', 'float64'])\n",
    "numerical_columns.drop(columns=['CustomerID'], inplace=True)\n",
    "\n",
    "# Plot distributions for numerical columns\n",
    "for column in numerical_columns:\n",
    "    plt.figure(figsize=(8, 5))\n",
    "    sns.histplot(df[column], kde=True, bins=20)\n",
    "    plt.title(f'Distribution of {column}')\n",
    "    plt.xlabel(column)\n",
    "    plt.ylabel('Frequency')\n",
    "    plt.show()\n",
    "\n",
    "# Plot distributions for categorical columns\n",
    "for column in categorical_columns:\n",
    "    plt.figure(figsize=(8, 5))\n",
    "    sns.countplot(data=df, x=column)\n",
    "    plt.title(f'Distribution of {column}')\n",
    "    plt.xlabel(column)\n",
    "    plt.ylabel('Count')\n",
    "    plt.show()"
   ],
   "execution_count": 24,
   "outputs": []
  },
  {
   "cell_type": "markdown",
   "metadata": {},
   "source": [
    "### 3. Feature Engineering"
   ]
  },
  {
   "cell_type": "markdown",
   "metadata": {},
   "source": [
    "Check for missing data"
   ]
  },
  {
   "cell_type": "code",
   "metadata": {
    "ExecuteTime": {
     "end_time": "2024-11-26T11:06:11.338286Z",
     "start_time": "2024-11-26T11:06:11.335218Z"
    }
   },
   "source": "df.isnull().sum()",
   "execution_count": 25,
   "outputs": []
  },
  {
   "metadata": {
    "ExecuteTime": {
     "end_time": "2024-11-26T11:06:11.788370Z",
     "start_time": "2024-11-26T11:06:11.785829Z"
    }
   },
   "cell_type": "code",
   "source": "df.isna().sum()",
   "execution_count": 26,
   "outputs": []
  },
  {
   "metadata": {},
   "cell_type": "markdown",
   "source": "Encoding the gender column"
  },
  {
   "metadata": {
    "ExecuteTime": {
     "end_time": "2024-11-26T11:06:12.511042Z",
     "start_time": "2024-11-26T11:06:12.508722Z"
    }
   },
   "cell_type": "code",
   "source": "df['Gender'].head()",
   "execution_count": 27,
   "outputs": []
  },
  {
   "metadata": {
    "ExecuteTime": {
     "end_time": "2024-11-26T11:06:12.915689Z",
     "start_time": "2024-11-26T11:06:12.913202Z"
    }
   },
   "cell_type": "code",
   "source": [
    "label_encoder = LabelEncoder()\n",
    "for column in categorical_columns:\n",
    "    df[column] = label_encoder.fit_transform(df[column])\n"
   ],
   "execution_count": 28,
   "outputs": []
  },
  {
   "metadata": {
    "ExecuteTime": {
     "end_time": "2024-11-26T11:06:13.424737Z",
     "start_time": "2024-11-26T11:06:13.422351Z"
    }
   },
   "cell_type": "code",
   "source": "df['Gender'].head()",
   "execution_count": 29,
   "outputs": []
  },
  {
   "cell_type": "markdown",
   "metadata": {},
   "source": [
    "Scale the data"
   ]
  },
  {
   "metadata": {
    "ExecuteTime": {
     "end_time": "2024-11-26T11:06:14.256823Z",
     "start_time": "2024-11-26T11:06:14.251074Z"
    }
   },
   "cell_type": "code",
   "source": "df.head()",
   "execution_count": 30,
   "outputs": []
  },
  {
   "cell_type": "code",
   "metadata": {
    "ExecuteTime": {
     "end_time": "2024-11-26T11:06:14.648266Z",
     "start_time": "2024-11-26T11:06:14.642795Z"
    }
   },
   "source": [
    "scaler = StandardScaler()\n",
    "scaled_features = scaler.fit_transform(df)\n",
    "scaled_df = pd.DataFrame(scaled_features, columns=df.columns)"
   ],
   "execution_count": 31,
   "outputs": []
  },
  {
   "metadata": {
    "ExecuteTime": {
     "end_time": "2024-11-26T11:06:15.177037Z",
     "start_time": "2024-11-26T11:06:15.173793Z"
    }
   },
   "cell_type": "code",
   "source": "df.head()",
   "execution_count": 32,
   "outputs": []
  },
  {
   "cell_type": "markdown",
   "metadata": {},
   "source": [
    "### 4. Implement the clustering algorithm\n",
    "\n",
    "Implement k-means by choosing an optimal number for k and print the values of centroids"
   ]
  },
  {
   "cell_type": "code",
   "metadata": {
    "ExecuteTime": {
     "end_time": "2024-11-26T11:06:18.863513Z",
     "start_time": "2024-11-26T11:06:18.855268Z"
    }
   },
   "source": [
    "# Apply KMeans clustering\n",
    "kmeans = KMeans(n_clusters=3, random_state=42)\n",
    "df['Cluster'] = kmeans.fit_predict(scaled_features)"
   ],
   "execution_count": 33,
   "outputs": []
  },
  {
   "cell_type": "markdown",
   "metadata": {},
   "source": [
    "Plot the clusters relating annual income and spending score features "
   ]
  },
  {
   "cell_type": "code",
   "metadata": {
    "ExecuteTime": {
     "end_time": "2024-11-26T11:15:22.517602Z",
     "start_time": "2024-11-26T11:15:22.412177Z"
    }
   },
   "source": [
    "# 2D Visualization: Clusters with Annual Income and Spending Score\n",
    "plt.figure(figsize=(10, 6))\n",
    "for cluster in range(kmeans.n_clusters):\n",
    "    cluster_data = df[df['Cluster'] == cluster]\n",
    "    plt.scatter(\n",
    "        cluster_data['Annual Income (k$)'], \n",
    "        cluster_data['Spending Score (1-100)'], \n",
    "        label=f'Cluster {cluster}', \n",
    "        alpha=0.6\n",
    "    )\n",
    "\n",
    "plt.title('Clusters of Customers (Annual Income vs. Spending Score)')\n",
    "plt.xlabel('Annual Income (k$)')\n",
    "plt.ylabel('Spending Score (1-100)')\n",
    "plt.legend()\n",
    "plt.grid()\n",
    "plt.show()\n"
   ],
   "execution_count": 36,
   "outputs": []
  },
  {
   "cell_type": "markdown",
   "metadata": {},
   "source": [
    "### 5. Evaluate the clustering quality"
   ]
  },
  {
   "cell_type": "markdown",
   "metadata": {},
   "source": [
    "Plot cluster cardinality and magnitude, if needed change the numer of k in step 4 to have good values of cardinality and magnitude"
   ]
  },
  {
   "cell_type": "code",
   "metadata": {
    "ExecuteTime": {
     "end_time": "2024-11-26T11:16:14.347707Z",
     "start_time": "2024-11-26T11:16:13.947306Z"
    }
   },
   "source": [
    "# Function to calculate the inertia and silhouette score for different values of k\n",
    "inertia = []\n",
    "silhouette_scores = []\n",
    "cluster_range = range(2, 11)  # Testing k from 2 to 10\n",
    "\n",
    "for k in cluster_range:\n",
    "    kmeans = KMeans(n_clusters=k, random_state=42)\n",
    "    labels = kmeans.fit_predict(scaled_features)\n",
    "    inertia.append(kmeans.inertia_)\n",
    "    silhouette_scores.append(silhouette_score(scaled_features, labels))\n",
    "\n",
    "# Plot inertia and silhouette score to find optimal k\n",
    "plt.figure(figsize=(12, 6))\n",
    "\n",
    "plt.subplot(1, 2, 1)\n",
    "plt.plot(cluster_range, inertia, marker='o')\n",
    "plt.title('Inertia vs Number of Clusters (k)')\n",
    "plt.xlabel('Number of Clusters (k)')\n",
    "plt.ylabel('Inertia')\n",
    "plt.grid()\n",
    "\n",
    "plt.subplot(1, 2, 2)\n",
    "plt.plot(cluster_range, silhouette_scores, marker='o', color='orange')\n",
    "plt.title('Silhouette Score vs Number of Clusters (k)')\n",
    "plt.xlabel('Number of Clusters (k)')\n",
    "plt.ylabel('Silhouette Score')\n",
    "plt.grid()\n",
    "\n",
    "plt.tight_layout()\n",
    "plt.show()\n"
   ],
   "execution_count": 37,
   "outputs": []
  },
  {
   "metadata": {
    "ExecuteTime": {
     "end_time": "2024-11-26T11:17:56.273105Z",
     "start_time": "2024-11-26T11:17:56.060111Z"
    }
   },
   "cell_type": "code",
   "source": [
    "# Re-clustering with k=6\n",
    "kmeans = KMeans(n_clusters=6, random_state=42)\n",
    "df['Cluster'] = kmeans.fit_predict(scaled_features)\n",
    "\n",
    "# Calculate cardinality (size of each cluster)\n",
    "cluster_cardinality = df['Cluster'].value_counts().sort_index()\n",
    "\n",
    "# Plot the cardinality of each cluster\n",
    "plt.figure(figsize=(8, 6))\n",
    "cluster_cardinality.plot(kind='bar', color='skyblue')\n",
    "plt.title('Cardinality of Clusters (k=6)')\n",
    "plt.xlabel('Cluster')\n",
    "plt.ylabel('Number of Customers')\n",
    "plt.grid(axis='y')\n",
    "plt.show()\n",
    "\n",
    "# Re-plot clusters (Annual Income vs Spending Score) with k=6\n",
    "plt.figure(figsize=(10, 6))\n",
    "for cluster in range(6):\n",
    "    cluster_data = df[df['Cluster'] == cluster]\n",
    "    plt.scatter(\n",
    "        cluster_data['Annual Income (k$)'], \n",
    "        cluster_data['Spending Score (1-100)'], \n",
    "        label=f'Cluster {cluster}', \n",
    "        alpha=0.6\n",
    "    )\n",
    "\n",
    "plt.title('Clusters of Customers (Annual Income vs. Spending Score, k=6)')\n",
    "plt.xlabel('Annual Income (k$)')\n",
    "plt.ylabel('Spending Score (1-100)')\n",
    "plt.legend()\n",
    "plt.grid()\n",
    "plt.show()\n"
   ],
   "execution_count": 38,
   "outputs": []
  },
  {
   "cell_type": "markdown",
   "metadata": {},
   "source": "Plot the elbow method results to help you choose the right numer of clusters. If necessary, change the k in step 4 again"
  },
  {
   "cell_type": "code",
   "metadata": {
    "ExecuteTime": {
     "end_time": "2024-11-26T11:18:32.891390Z",
     "start_time": "2024-11-26T11:18:32.813726Z"
    }
   },
   "source": [
    "# Plotting the Elbow Method (Inertia) to choose the optimal number of clusters\n",
    "plt.figure(figsize=(8, 6))\n",
    "plt.plot(cluster_range, inertia, marker='o', linestyle='--', color='blue')\n",
    "plt.title('Elbow Method: Inertia vs Number of Clusters (k)')\n",
    "plt.xlabel('Number of Clusters (k)')\n",
    "plt.ylabel('Inertia')\n",
    "plt.xticks(cluster_range)\n",
    "plt.grid()\n",
    "plt.show()\n",
    "\n",
    "# Rechecking k for optimal clustering based on the elbow\n",
    "optimal_k = 5  # Tentatively, based on the previous analysis\n",
    "if silhouette_scores[cluster_range.index(optimal_k)] < max(silhouette_scores):\n",
    "    optimal_k = cluster_range[silhouette_scores.index(max(silhouette_scores))]\n",
    "optimal_k\n"
   ],
   "execution_count": 39,
   "outputs": []
  },
  {
   "cell_type": "markdown",
   "metadata": {},
   "source": [
    "Choose 10 similar data points and verify if they are allocated in the same cluster. If not, try to change k in step 4 or try to implement another similarity metric."
   ]
  },
  {
   "cell_type": "code",
   "metadata": {
    "ExecuteTime": {
     "end_time": "2024-11-26T11:19:59.589722Z",
     "start_time": "2024-11-26T11:19:59.582929Z"
    }
   },
   "source": [
    "# Select 10 similar data points based on 'Annual Income (k$)' and 'Spending Score (1-100)'\n",
    "# Finding points with minimal differences in these two features\n",
    "similar_points = df.nsmallest(10, ['Annual Income (k$)', 'Spending Score (1-100)'])\n",
    "\n",
    "# Check if they belong to the same cluster\n",
    "similar_points_clusters = similar_points['Cluster']\n",
    "\n",
    "# Check for consistency in clustering\n",
    "all_same_cluster = similar_points_clusters.nunique() == 1\n",
    "\n",
    "# Display the result\n",
    "similar_points[['Annual Income (k$)', 'Spending Score (1-100)', 'Cluster']], all_same_cluster\n"
   ],
   "execution_count": 42,
   "outputs": []
  },
  {
   "cell_type": "markdown",
   "metadata": {},
   "source": [
    "### 6. Your recommendations to marketing team\n",
    "\n",
    "Create a new column in your dataset named \"type of client\", you should give interesting names to each cluster to try to help the marketing team. \n",
    "\n",
    "For instance if you identify a cluster that groups clients of high incomes with high spending scores, you could call them as \"Luxury shoppers\". A group of young ages, low incomes but high spending scores could be named \"Impulsive shoppers\".\n",
    "\n",
    "You need to explore the data in each cluster to define such names."
   ]
  },
  {
   "cell_type": "code",
   "metadata": {
    "ExecuteTime": {
     "end_time": "2024-11-26T11:22:53.534162Z",
     "start_time": "2024-11-26T11:22:53.528412Z"
    }
   },
   "source": [
    "# Define cluster names based on the characteristics of each cluster\n",
    "def categorize_cluster(row):\n",
    "    if row['Cluster'] == 0:\n",
    "        return \"Cautious Spenders\"\n",
    "    elif row['Cluster'] == 1:\n",
    "        return \"Moderate Shoppers\"\n",
    "    elif row['Cluster'] == 2:\n",
    "        return \"Steady Earners\"\n",
    "    elif row['Cluster'] == 3:\n",
    "        return \"Balanced Budgets\"\n",
    "    elif row['Cluster'] == 4:\n",
    "        return \"Luxury Shoppers\"\n",
    "    elif row['Cluster'] == 5:\n",
    "        return \"High Rollers\"\n",
    "\n",
    "# Add the new column 'Type of Client' to the dataset\n",
    "df['Type of Client'] = df.apply(categorize_cluster, axis=1)\n",
    "\n",
    "df['Type of Client']"
   ],
   "execution_count": 45,
   "outputs": []
  },
  {
   "cell_type": "markdown",
   "metadata": {},
   "source": [
    "Print the names of your clusters with 5 lines of example to each"
   ]
  },
  {
   "cell_type": "code",
   "metadata": {
    "ExecuteTime": {
     "end_time": "2024-11-26T11:19:48.931718Z",
     "start_time": "2024-11-26T11:19:48.921507Z"
    }
   },
   "source": [
    "# Group data by clusters and extract sample points for each cluster\n",
    "cluster_examples = {}\n",
    "for cluster in df['Cluster'].unique():\n",
    "    # Get 5 random examples from each cluster\n",
    "    examples = df[df['Cluster'] == cluster].sample(5, random_state=42)[\n",
    "        ['CustomerID', 'Age', 'Gender', 'Annual Income (k$)', 'Spending Score (1-100)']\n",
    "    ]\n",
    "    cluster_examples[cluster] = examples\n",
    "\n",
    "# Display cluster samples\n",
    "cluster_examples\n"
   ],
   "execution_count": 41,
   "outputs": []
  },
  {
   "cell_type": "markdown",
   "metadata": {},
   "source": []
  }
 ],
 "metadata": {
  "kernelspec": {
   "display_name": "base",
   "language": "python",
   "name": "python3"
  },
  "language_info": {
   "codemirror_mode": {
    "name": "ipython",
    "version": 3
   },
   "file_extension": ".py",
   "mimetype": "text/x-python",
   "name": "python",
   "nbconvert_exporter": "python",
   "pygments_lexer": "ipython3",
   "version": "3.11.5"
  }
 },
 "nbformat": 4,
 "nbformat_minor": 2
}
