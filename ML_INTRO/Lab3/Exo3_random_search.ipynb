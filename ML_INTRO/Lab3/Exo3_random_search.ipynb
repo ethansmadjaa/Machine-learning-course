{
 "cells": [
  {
   "attachments": {},
   "cell_type": "markdown",
   "metadata": {},
   "source": [
    "# Random Search Implementation\n",
    "\n",
    "In this exercise we will implement the random search algorithm from scratch. \n",
    "\n",
    "The goal is to understand how the hyperparameter tunning is performed. \n",
    "\n",
    "You will receive a dictionary of {parameter_name:values} to be used with a decision tree classifier.\n",
    "\n",
    "Your algorithm need to randomly choose a combination of parameters and use it as input to train the Decision Tree.\n",
    "\n",
    "The algorithm will choose n random combinations. n is a parameter given by the user.\n",
    "\n",
    "You can use the following code to help your implementation or you can write your code from scratch.\n",
    "\n",
    "Needles to say you should not use the \"RandomizedSearchCV\" from scikit-learn\n",
    "\n",
    "Hands on!"
   ]
  },
  {
   "cell_type": "code",
   "metadata": {
    "ExecuteTime": {
     "end_time": "2024-10-23T15:36:19.121656Z",
     "start_time": "2024-10-23T15:36:18.758910Z"
    }
   },
   "source": [
    "import random\n",
    "import numpy as np\n",
    "from sklearn.model_selection import train_test_split\n",
    "from sklearn.datasets import load_breast_cancer\n",
    "from sklearn.tree import DecisionTreeClassifier\n",
    "from sklearn.metrics import accuracy_score\n",
    "\n",
    "\n",
    "data = load_breast_cancer()\n",
    "X, y = data.data, data.target\n",
    "X_train, X_test, y_train, y_test = train_test_split(X, y, test_size=0.2, random_state=0)\n",
    "\n",
    "def random_search(model, param_grid, X, y, n_iter=100):\n",
    "    \"\"\"\n",
    "    Perform random search\n",
    "    :param model: Model to be used\n",
    "    :param param_grid: Dictionary containing hyperparameters and their possible values\n",
    "    :param X: Data (n_samples, n_features)\n",
    "    :param y: Target (n_samples,)\n",
    "    :param n_iter: Number of iterations\n",
    "    :return: Best hyperparameters\n",
    "    \"\"\"\n",
    "    best_accuracy = 0\n",
    "    best_hyperparameters = {}\n",
    "    hyperparameters = {}\n",
    "    \n",
    "    for _ in range(n_iter):\n",
    "        \n",
    "        for key in param_grid:\n",
    "            \n",
    "            random_index = random.randint(0, len(param_grid[key]) - 1)\n",
    "            hyperparameters[key] = param_grid[key][random_index]\n",
    "            \n",
    "        model.set_params(**hyperparameters)\n",
    "        model.fit(X, y)\n",
    "        \n",
    "        y_pred = model.predict(X_test)\n",
    "        accuracy = accuracy_score(y_test, y_pred)\n",
    "        \n",
    "        if accuracy > best_accuracy:\n",
    "            best_accuracy = accuracy\n",
    "            best_hyperparameters = hyperparameters.copy()\n",
    "    \n",
    "    print(hyperparameters)\n",
    "    return best_hyperparameters\n",
    "\n",
    "# Define model and hyperparameters\n",
    "model = DecisionTreeClassifier()\n",
    "param_grid = {\n",
    "    \"max_depth\": [3, 5, 7, None],\n",
    "    \"criterion\": [\"gini\", \"entropy\"],\n",
    "    \"min_samples_split\": [2, 3, 4, 5],\n",
    "}\n",
    "\n",
    "# Perform random search\n",
    "best_params = random_search(model, param_grid, X_train, y_train, n_iter=100)\n",
    "\n",
    "# Train the model with best hyperparameters\n",
    "model.set_params(**best_params)\n",
    "model.fit(X_train, y_train)\n"
   ],
   "execution_count": 10,
   "outputs": []
  },
  {
   "cell_type": "code",
   "metadata": {
    "ExecuteTime": {
     "end_time": "2024-10-23T15:36:15.296929Z",
     "start_time": "2024-10-23T15:36:15.294854Z"
    }
   },
   "source": [],
   "execution_count": 9,
   "outputs": []
  },
  {
   "metadata": {
    "ExecuteTime": {
     "end_time": "2024-10-23T15:35:17.748861Z",
     "start_time": "2024-10-23T15:35:17.747238Z"
    }
   },
   "cell_type": "code",
   "source": "",
   "execution_count": 6,
   "outputs": []
  },
  {
   "metadata": {},
   "cell_type": "code",
   "execution_count": null,
   "source": "",
   "outputs": []
  }
 ],
 "metadata": {
  "kernelspec": {
   "display_name": "Python 3",
   "language": "python",
   "name": "python3"
  },
  "language_info": {
   "codemirror_mode": {
    "name": "ipython",
    "version": 3
   },
   "file_extension": ".py",
   "mimetype": "text/x-python",
   "name": "python",
   "nbconvert_exporter": "python",
   "pygments_lexer": "ipython3",
   "version": "3.7.15 (default, Nov 24 2022, 18:44:54) [MSC v.1916 64 bit (AMD64)]"
  },
  "orig_nbformat": 4,
  "vscode": {
   "interpreter": {
    "hash": "914a73f32d308ae8debcaf6a2c2af8e68613f922620f6864a793ea7cdc2482ad"
   }
  }
 },
 "nbformat": 4,
 "nbformat_minor": 2
}
