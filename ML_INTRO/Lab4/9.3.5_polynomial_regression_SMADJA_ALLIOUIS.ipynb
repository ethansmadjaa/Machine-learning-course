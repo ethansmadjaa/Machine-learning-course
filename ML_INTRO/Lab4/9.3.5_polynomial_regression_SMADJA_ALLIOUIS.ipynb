{
 "cells": [
  {
   "cell_type": "markdown",
   "metadata": {},
   "source": [
    "# Exercise: Implementing Polynomial Regression from Scratch with Diabetes Dataset\n",
    "\n",
    "\n",
    "## Objective:\n",
    "\n",
    "Implement polynomial regression from scratch using the Diabetes dataset to understand how to extend linear regression for capturing non-linear relationships.\n",
    "\n",
    "### Step 1: Load and Explore the Dataset\n",
    "\n",
    "Load the Diabetes dataset and explore its features. Familiarize yourself with the dataset structure and the target variable (disease progression one year after baseline)."
   ]
  },
  {
   "cell_type": "code",
   "metadata": {
    "ExecuteTime": {
     "end_time": "2024-11-07T16:03:28.953472Z",
     "start_time": "2024-11-07T16:03:28.512666Z"
    }
   },
   "source": [
    "import numpy as np\n",
    "from sklearn.datasets import load_diabetes\n",
    "from sklearn.model_selection import train_test_split\n",
    "from sklearn.preprocessing import StandardScaler\n",
    "\n",
    "# Load the diabetes dataset\n",
    "diabetes = load_diabetes()\n",
    "data, target = diabetes.data, diabetes.target\n"
   ],
   "execution_count": 2,
   "outputs": []
  },
  {
   "cell_type": "markdown",
   "metadata": {},
   "source": [
    "### Step 2: Split the Dataset\n",
    "\n",
    "Split the dataset into training and testing sets. This will allow us to train the model on one subset and evaluate its performance on another."
   ]
  },
  {
   "cell_type": "code",
   "metadata": {
    "ExecuteTime": {
     "end_time": "2024-11-07T16:03:28.956427Z",
     "start_time": "2024-11-07T16:03:28.954325Z"
    }
   },
   "source": [
    "# Split the dataset into training and testing sets\n",
    "X_train, X_test, y_train, y_test = train_test_split(data, target, test_size=0.2, random_state=42)"
   ],
   "execution_count": 3,
   "outputs": []
  },
  {
   "cell_type": "code",
   "metadata": {
    "ExecuteTime": {
     "end_time": "2024-11-07T16:03:28.959005Z",
     "start_time": "2024-11-07T16:03:28.956934Z"
    }
   },
   "source": [
    "# Scale the data\n",
    "scaler = StandardScaler()\n",
    "X_train = scaler.fit_transform(X_train)\n",
    "X_test = scaler.transform(X_test)"
   ],
   "execution_count": 4,
   "outputs": []
  },
  {
   "cell_type": "markdown",
   "metadata": {},
   "source": [
    "### Step 3: Implement Polynomial Features Function\n",
    "\n",
    "Implement a function to transform the input features into polynomial features of a given degree. This function will take the original features and create new features by raising them to different powers."
   ]
  },
  {
   "cell_type": "code",
   "metadata": {
    "ExecuteTime": {
     "end_time": "2024-11-07T16:03:28.962081Z",
     "start_time": "2024-11-07T16:03:28.960021Z"
    }
   },
   "source": [
    "def polynomial_features(X, degree=2):\n",
    "    # Get the number of samples and features\n",
    "    n_samples, n_features = X.shape\n",
    "    \n",
    "    # Initialize a list to store the polynomial features\n",
    "    features = [np.ones(n_samples)]  # Start with a column of ones for the bias term\n",
    "    \n",
    "    # Loop over each degree from 1 to the specified degree\n",
    "    for d in range(1, degree + 1):\n",
    "        for feature_index in range(n_features):\n",
    "            # Raise each feature to the power of d and add to the list\n",
    "            features.append(X[:, feature_index] ** d)\n",
    "    \n",
    "    # Concatenate all features into a single array\n",
    "    return np.column_stack(features)"
   ],
   "execution_count": 5,
   "outputs": []
  },
  {
   "cell_type": "markdown",
   "metadata": {},
   "source": [
    "### Step 4: Implement Polynomial Regression Class \n",
    "\n",
    "Create a class for polynomial linear regression with methods for fitting the model and making predictions. Use mean squared error as the cost function and gradient descent for optimization."
   ]
  },
  {
   "cell_type": "code",
   "metadata": {
    "ExecuteTime": {
     "end_time": "2024-11-07T16:03:28.965314Z",
     "start_time": "2024-11-07T16:03:28.962774Z"
    }
   },
   "source": [
    "class PolynomialRegression:\n",
    "    def __init__(self, degree, learning_rate=0.001, n_iterations=1000):\n",
    "        self.degree = degree\n",
    "        self.learning_rate = learning_rate\n",
    "        self.n_iterations = n_iterations\n",
    "        self.weights = None\n",
    "\n",
    "    def polynomial_features(self, X):\n",
    "        return polynomial_features(X, self.degree)\n",
    "\n",
    "    def fit(self, X, y):\n",
    "        # Use the class method to generate polynomial features\n",
    "        X = self.polynomial_features(X)\n",
    "\n",
    "        # Initialize weights randomly\n",
    "        self.weights = np.random.randn(X.shape[1])\n",
    "\n",
    "        # Perform gradient descent\n",
    "        for _ in range(self.n_iterations):\n",
    "            # Calculate predictions\n",
    "            y_pred = np.dot(X, self.weights)\n",
    "            # Calculate error\n",
    "            error = y_pred - y\n",
    "            # Update weights\n",
    "            self.weights -= self.learning_rate * np.dot(X.T, error) / X.shape[0]\n",
    "\n",
    "    def predict(self, X):\n",
    "        # Generate polynomial features for the input data\n",
    "        X = self.polynomial_features(X)\n",
    "        \n",
    "        # Calculate predictions\n",
    "        return np.dot(X, self.weights)\n",
    "\n",
    "\n"
   ],
   "execution_count": 6,
   "outputs": []
  },
  {
   "cell_type": "markdown",
   "metadata": {},
   "source": [
    "### Step 5: Train and Evaluate the Model\n",
    "\n",
    "Instantiate the $PolynomialRegression$ class, fit the model to the training set, and evaluate its performance on the test set."
   ]
  },
  {
   "cell_type": "code",
   "metadata": {
    "ExecuteTime": {
     "end_time": "2024-11-07T16:03:28.997655Z",
     "start_time": "2024-11-07T16:03:28.965934Z"
    }
   },
   "source": [
    "# Instantiate and train the polynomial regression model\n",
    "model = PolynomialRegression(degree=2, learning_rate=0.1, n_iterations=5000)\n",
    "model.fit(X_train, y_train)\n",
    "\n",
    "# Make predictions on the test set\n",
    "predictions = model.predict(X_test)\n",
    "\n",
    "# Evaluate the model (calculate and print mean squared error)\n",
    "mse = np.mean((predictions - y_test) ** 2)\n",
    "print(f\"Mean Squared Error on Test Set: {mse}\")"
   ],
   "execution_count": 7,
   "outputs": []
  }
 ],
 "metadata": {
  "kernelspec": {
   "display_name": "base",
   "language": "python",
   "name": "python3"
  },
  "language_info": {
   "codemirror_mode": {
    "name": "ipython",
    "version": 3
   },
   "file_extension": ".py",
   "mimetype": "text/x-python",
   "name": "python",
   "nbconvert_exporter": "python",
   "pygments_lexer": "ipython3",
   "version": "3.12.4"
  }
 },
 "nbformat": 4,
 "nbformat_minor": 2
}
