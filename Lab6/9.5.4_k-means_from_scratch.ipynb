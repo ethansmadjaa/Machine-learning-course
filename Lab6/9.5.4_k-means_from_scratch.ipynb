{
 "cells": [
  {
   "cell_type": "markdown",
   "metadata": {},
   "source": [
    "## Implementing K-Means Clustering from Scratch\n",
    "\n",
    "**Objective:** In this lab, we will implement the k-means clustering algorithm from scratch in Python and apply it to a simple dataset.\n",
    "\n",
    "**We are going to create a synthetic dataset**\n",
    "The make_blobs function is ideal for visualizing the behavior of clustering algorithms and testing their performance under controlled conditions.The created dataset consists of clusters of data points, where each cluster is generated using a Gaussian distribution (normal distribution) around a center. You can control the number of clusters, the spread (variance) of the points, the dimensionality of the space, and more."
   ]
  },
  {
   "cell_type": "markdown",
   "metadata": {},
   "source": [
    "### 1. Data generation"
   ]
  },
  {
   "cell_type": "code",
   "metadata": {
    "ExecuteTime": {
     "end_time": "2024-11-26T10:53:38.154027Z",
     "start_time": "2024-11-26T10:53:38.029193Z"
    }
   },
   "source": [
    "import numpy as np\n",
    "from sklearn.datasets import make_blobs\n",
    "import matplotlib.pyplot as plt\n",
    "\n",
    "# Generate a 2D dataset with 3 clusters\n",
    "data, _ = make_blobs(n_samples=300, centers=3, cluster_std=1.0, random_state=42)"
   ],
   "outputs": [],
   "execution_count": 1
  },
  {
   "cell_type": "code",
   "metadata": {
    "ExecuteTime": {
     "end_time": "2024-11-26T10:53:38.156359Z",
     "start_time": "2024-11-26T10:53:38.154633Z"
    }
   },
   "source": [
    "# print the first 5 samples\n",
    "print(data[:5])"
   ],
   "outputs": [
    {
     "name": "stdout",
     "output_type": "stream",
     "text": [
      "[[-7.33898809 -7.72995396]\n",
      " [-7.74004056 -7.26466514]\n",
      " [-1.68665271  7.79344248]\n",
      " [ 4.42219763  3.07194654]\n",
      " [-8.91775173 -7.8881959 ]]\n"
     ]
    }
   ],
   "execution_count": 2
  },
  {
   "cell_type": "code",
   "metadata": {
    "ExecuteTime": {
     "end_time": "2024-11-26T10:53:40.507085Z",
     "start_time": "2024-11-26T10:53:40.310256Z"
    }
   },
   "source": [
    "# Visualize the data\n",
    "plt.scatter(data[:, 0], data[:, 1], s=50, color='blue')\n",
    "plt.title(\"Dataset for K-Means\")\n",
    "plt.show()"
   ],
   "outputs": [
    {
     "data": {
      "text/plain": [
       "<Figure size 640x480 with 1 Axes>"
      ],
      "image/png": "[encoded data removed]"
     },
     "metadata": {},
     "output_type": "display_data"
    }
   ],
   "execution_count": 3
  },
  {
   "cell_type": "markdown",
   "metadata": {},
   "source": [
    "### 2. Implementation of K-means algorithm\n",
    "\n",
    "2.1 - Initialize Centroids\n",
    "* Randomly initialize $k$ centroids from the data points."
   ]
  },
  {
   "cell_type": "code",
   "execution_count": null,
   "metadata": {},
   "outputs": [],
   "source": [
    "def initialize_centroids(data, k):\n",
    "    # your code here"
   ]
  },
  {
   "cell_type": "code",
   "execution_count": null,
   "metadata": {},
   "outputs": [],
   "source": [
    "# test your function\n",
    "k = 3\n",
    "centroids = initialize_centroids(data, k)\n",
    "print(\"Initial centroids:\\n\", centroids)"
   ]
  },
  {
   "cell_type": "markdown",
   "metadata": {},
   "source": [
    "2.2 - Assign Points to the Nearest Centroid\n",
    "* Assign each data point to the nearest centroid based on the Euclidean distance (Sum of the squared distances - RMSE)."
   ]
  },
  {
   "cell_type": "code",
   "execution_count": null,
   "metadata": {},
   "outputs": [],
   "source": [
    "def compute_distances(data, centroids):\n",
    "    # your code here\n",
    "\n",
    "def assign_clusters(data, centroids):\n",
    "    # your code here"
   ]
  },
  {
   "cell_type": "code",
   "execution_count": null,
   "metadata": {},
   "outputs": [],
   "source": [
    "# test your function\n",
    "cluster_labels = assign_clusters(data, centroids)\n",
    "print(\"Cluster labels:\\n\", cluster_labels)"
   ]
  },
  {
   "cell_type": "markdown",
   "metadata": {},
   "source": [
    "2.3 - Update Centroids\n",
    "* Recalculate the centroids as the mean of all points assigned to each cluster."
   ]
  },
  {
   "cell_type": "code",
   "execution_count": null,
   "metadata": {},
   "outputs": [],
   "source": [
    "def update_centroids(data, labels, k):\n",
    "    # your code here"
   ]
  },
  {
   "cell_type": "code",
   "execution_count": null,
   "metadata": {},
   "outputs": [],
   "source": [
    "# test your function\n",
    "updated_centroids = update_centroids(data, cluster_labels, k)\n",
    "print(\"Updated centroids:\\n\", updated_centroids)"
   ]
  },
  {
   "cell_type": "markdown",
   "metadata": {},
   "source": [
    "2.4 - Iterate Until Convergence\n",
    "* Repeat the assignment and update steps until the centroids do not change or a maximum number of iterations is reached. If the centroids converge before reaching the maximum number of iterations your code should stop."
   ]
  },
  {
   "cell_type": "code",
   "execution_count": null,
   "metadata": {},
   "outputs": [],
   "source": [
    "def k_means(data, k, max_iters=100):\n",
    "    # your code here"
   ]
  },
  {
   "cell_type": "code",
   "execution_count": null,
   "metadata": {},
   "outputs": [],
   "source": [
    "# test your function\n",
    "final_centroids, final_labels = k_means(data, k)\n",
    "print(\"Final centroids:\\n\", final_centroids)"
   ]
  },
  {
   "cell_type": "markdown",
   "metadata": {},
   "source": [
    "### 3. Visualize the Results\n",
    "\n",
    "After clustering, visualize the clusters and their centroids.\n",
    "\n",
    "3.1 - Write a function to plot the clusters:"
   ]
  },
  {
   "cell_type": "code",
   "execution_count": null,
   "metadata": {},
   "outputs": [],
   "source": [
    "def plot_clusters(data, labels, centroids):\n",
    "    # your code here"
   ]
  },
  {
   "cell_type": "code",
   "execution_count": null,
   "metadata": {},
   "outputs": [],
   "source": [
    "# test your function\n",
    "plot_clusters(data, final_labels, final_centroids)"
   ]
  }
 ],
 "metadata": {
  "kernelspec": {
   "display_name": "base",
   "language": "python",
   "name": "python3"
  },
  "language_info": {
   "codemirror_mode": {
    "name": "ipython",
    "version": 3
   },
   "file_extension": ".py",
   "mimetype": "text/x-python",
   "name": "python",
   "nbconvert_exporter": "python",
   "pygments_lexer": "ipython3",
   "version": "3.11.5"
  }
 },
 "nbformat": 4,
 "nbformat_minor": 2
}
