{
 "cells": [
  {
   "cell_type": "code",
   "id": "initial_id",
   "metadata": {
    "collapsed": true,
    "ExecuteTime": {
     "end_time": "2025-02-19T08:20:03.771175Z",
     "start_time": "2025-02-19T08:20:03.765315Z"
    }
   },
   "source": [
    "class GridWorld:\n",
    "    def __init__(self):\n",
    "        # Initialize grid dimensions\n",
    "        self.states = None\n",
    "        self.rows = 3\n",
    "        self.cols = 4\n",
    "        self.gamma = 0.9  # Discount factorr\n",
    "        self.actions = ['N', 'S', 'E', 'W']\n",
    "        self.obstacle_position = (2, 2)\n",
    "\n",
    "        self.initialize_states()\n",
    "\n",
    "        # initialize transition probabilities\n",
    "        self.probs = {\n",
    "            'N': [(0.8, (-1, 0)), (0.1, (0, 1)), (0.1, (0, -1))],\n",
    "            'S': [(0.8, (1, 0)), (0.1, (0, 1)), (0.1, (0, -1))],\n",
    "            'E': [(0.8, (0, 1)), (0.1, (-1, 0)), (0.1, (1, 0))],\n",
    "            'W': [(0.8, (0, -1)), (0.1, (-1, 0)), (0.1, (1, 0))]\n",
    "        }\n",
    "    \n",
    "    def initialize_states(self):\n",
    "        \"\"\"Generates a list of grid positions, excluding obstacle position.\"\"\"\n",
    "        self.states = [(i + 1, j + 1) for i in range(self.rows)\n",
    "                       for j in range(self.cols)\n",
    "                       if (i + 1, j + 1) != self.obstacle_position]\n",
    "\n",
    "    def get_reward(self, state):\n",
    "        \"\"\"returns reward for given state.\"\"\"\n",
    "        if state == (4, 3):\n",
    "            return 1.0\n",
    "        elif state == (4, 2):\n",
    "            return -1.0\n",
    "        else:\n",
    "            return -0.02\n",
    "\n",
    "    def is_valid_state(self, state):\n",
    "        \"\"\"check if state is valid (within bounds and not obstacle).\"\"\"\n",
    "        x, y = state\n",
    "        return 1 <= x <= self.cols and 1 <= y <= self.rows and state != (2, 2)\n",
    "\n",
    "    def get_next_state(self, current_state, action_effect):\n",
    "        \"\"\"get next state given current state and action effect.\"\"\"\n",
    "        next_x = current_state[0] + action_effect[1]\n",
    "        next_y = current_state[1] + action_effect[0]\n",
    "        next_state = (next_x, next_y)\n",
    "\n",
    "        # if next state is invalid, stay in current state\n",
    "        if not self.is_valid_state(next_state):\n",
    "            return current_state\n",
    "\n",
    "        #if next state is valid, move there\n",
    "        return next_state\n",
    "\n"
   ],
   "outputs": [],
   "execution_count": 1
  },
  {
   "metadata": {
    "ExecuteTime": {
     "end_time": "2025-02-19T08:20:03.784323Z",
     "start_time": "2025-02-19T08:20:03.781501Z"
    }
   },
   "cell_type": "code",
   "source": [
    "def value_iteration(grid, epsilon=1e-6, max_iterations=1000):\n",
    "    \"\"\"\n",
    "    Implement value iteration algorithm.\n",
    "    Returns optimal value function and policy.\n",
    "    \"\"\"\n",
    "    # Initialize value function\n",
    "    V = {state: 0 for state in grid.states}\n",
    "    # Set terminal state values\n",
    "    V[(4, 3)] = 1.0  # Goal state\n",
    "    V[(4, 2)] = -1.0  # Pit state\n",
    "\n",
    "    policy = {state: None for state in grid.states}\n",
    "\n",
    "    iteration = 0\n",
    "    while iteration < max_iterations:\n",
    "        delta = 0\n",
    "        V_old = V.copy()\n",
    "\n",
    "        # Update each state\n",
    "        for state in grid.states:\n",
    "            # Skip terminal states\n",
    "            if state in [(4, 3), (4, 2)]:\n",
    "                continue\n",
    "\n",
    "            # Find maximum value over all actions\n",
    "            action_values = []\n",
    "\n",
    "            for action in grid.actions:\n",
    "                value = 0\n",
    "                # Calculate expected value for each possible outcome\n",
    "                for prob, effect in grid.probs[action]:\n",
    "                    next_state = grid.get_next_state(state, effect)\n",
    "                    # Make sure next_state is in our state space\n",
    "                    if next_state in V_old:\n",
    "                        value += prob * (grid.get_reward(state) + grid.gamma * V_old[next_state])\n",
    "                action_values.append((value, action))\n",
    "\n",
    "            # Update value and policy\n",
    "            best_value, best_action = max(action_values)\n",
    "            V[state] = best_value\n",
    "            policy[state] = best_action\n",
    "\n",
    "            delta = max(delta, abs(V[state] - V_old[state]))\n",
    "\n",
    "        if delta < epsilon:\n",
    "            break\n",
    "\n",
    "        iteration += 1\n",
    "\n",
    "    return V, policy\n"
   ],
   "id": "40bbcc4e1b192a7b",
   "outputs": [],
   "execution_count": 2
  },
  {
   "metadata": {
    "ExecuteTime": {
     "end_time": "2025-02-19T08:20:03.795605Z",
     "start_time": "2025-02-19T08:20:03.793056Z"
    }
   },
   "cell_type": "code",
   "source": [
    "def print_results(V, policy):\n",
    "    \"\"\"Print the results in a grid format.\"\"\"\n",
    "    print(\"\\nOptimal Value Function:\")\n",
    "    for y in range(1, 4):\n",
    "        for x in range(1, 5):\n",
    "            if (x, y) == (2, 2):\n",
    "                print(\"  ###  \", end=\"\")\n",
    "            elif (x, y) in V:\n",
    "                print(f\"{V[(x, y)]:7.3f}\", end=\"\")\n",
    "        print()\n",
    "\n",
    "    print(\"\\nOptimal Policy:\")\n",
    "    for y in range(1, 4):\n",
    "        for x in range(1, 5):\n",
    "            if (x, y) == (2, 2):\n",
    "                print(\"  #  \", end=\"\")\n",
    "            elif (x, y) in policy:\n",
    "                if (x, y) in [(4, 3), (4, 2)]:\n",
    "                    print(\"  *  \", end=\"\")\n",
    "                else:\n",
    "                    print(f\"  {policy[(x, y)]}  \", end=\"\")\n",
    "        print()\n"
   ],
   "id": "31d0fa59d7ad5ea0",
   "outputs": [],
   "execution_count": 3
  },
  {
   "metadata": {
    "ExecuteTime": {
     "end_time": "2025-02-19T08:20:03.799472Z",
     "start_time": "2025-02-19T08:20:03.796389Z"
    }
   },
   "cell_type": "code",
   "source": [
    "# Run the algorithm\n",
    "grid = GridWorld()\n",
    "V, policy = value_iteration(grid)\n",
    "print_results(V, policy)"
   ],
   "id": "166cff17fa55677",
   "outputs": [
    {
     "name": "stdout",
     "output_type": "stream",
     "text": [
      "\n",
      "Optimal Value Function:\n",
      "  0.391  0.320  0.392\n",
      "  0.482  ###    0.529 -1.000\n",
      "  0.577  0.697  0.822  1.000\n",
      "\n",
      "Optimal Policy:\n",
      "  S    E    S  \n",
      "  S    #    S  \n",
      "  E    E    E  \n"
     ]
    }
   ],
   "execution_count": 4
  },
  {
   "metadata": {
    "ExecuteTime": {
     "end_time": "2025-02-19T08:20:03.801354Z",
     "start_time": "2025-02-19T08:20:03.800083Z"
    }
   },
   "cell_type": "code",
   "source": "",
   "id": "c838b3b000fa7f30",
   "outputs": [],
   "execution_count": 4
  }
 ],
 "metadata": {
  "kernelspec": {
   "display_name": "Python 3",
   "language": "python",
   "name": "python3"
  },
  "language_info": {
   "codemirror_mode": {
    "name": "ipython",
    "version": 2
   },
   "file_extension": ".py",
   "mimetype": "text/x-python",
   "name": "python",
   "nbconvert_exporter": "python",
   "pygments_lexer": "ipython2",
   "version": "2.7.6"
  }
 },
 "nbformat": 4,
 "nbformat_minor": 5
}
