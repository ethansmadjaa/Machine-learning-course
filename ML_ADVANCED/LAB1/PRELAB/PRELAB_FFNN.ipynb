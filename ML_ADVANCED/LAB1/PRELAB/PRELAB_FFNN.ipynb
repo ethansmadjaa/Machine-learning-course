{
 "cells": [
  {
   "cell_type": "markdown",
   "id": "d36785448091dee9",
   "metadata": {},
   "source": [
    "## Step 1: Load Data\n",
    "We start by downloading and loading the dataset `data_ffnn.txt`. The file consists of three columns: `x1`, `x2`, and `y`. This is a multi-class problem.\n"
   ]
  },
  {
   "cell_type": "code",
   "id": "f884ddd3240ea39f",
   "metadata": {
    "ExecuteTime": {
     "end_time": "2025-01-21T10:47:22.106358Z",
     "start_time": "2025-01-21T10:47:22.101250Z"
    }
   },
   "source": [
    "import pandas as pd\n",
    "import matplotlib.pyplot as plt\n",
    "import numpy as np\n",
    "\n",
    "# Load the data\n",
    "file_path = \"data_ffnn.txt\"  # Ensure this file is in your working directory\n",
    "data = pd.read_csv(file_path, delim_whitespace=True, header=0, names=['x1', 'x2', 'y'])\n",
    "\n",
    "# Display the first few rows\n",
    "print(data.head())\n"
   ],
   "execution_count": 45,
   "outputs": []
  },
  {
   "cell_type": "markdown",
   "id": "7c304abc0592b573",
   "metadata": {},
   "source": [
    "## Step 2: Plot the Data\n",
    "Visualize the data in 2D, coloring each point according to its class.\n"
   ]
  },
  {
   "cell_type": "code",
   "id": "347e59d745c0077d",
   "metadata": {
    "ExecuteTime": {
     "end_time": "2025-01-21T10:47:22.185547Z",
     "start_time": "2025-01-21T10:47:22.112134Z"
    }
   },
   "source": [
    "\n",
    "# Plot the data\n",
    "plt.figure(figsize=(8, 6))\n",
    "for label in data['y'].unique():\n",
    "    subset = data[data['y'] == label]\n",
    "    plt.scatter(subset['x1'], subset['x2'], label=f'Class {label}')\n",
    "    \n",
    "plt.xlabel('x1')\n",
    "plt.ylabel('x2')\n",
    "plt.title('Data Visualization 2D')\n",
    "plt.legend()\n",
    "plt.show()\n"
   ],
   "execution_count": 46,
   "outputs": []
  },
  {
   "cell_type": "markdown",
   "id": "1f7e8289d03f0e34",
   "metadata": {},
   "source": [
    "## Step 3: Forward Propagation\n",
    "We implement forward propagation for a feedforward neural network with three layers. The hidden layer will have `K` neurons.\n"
   ]
  },
  {
   "cell_type": "code",
   "id": "98f40caa791db48",
   "metadata": {
    "ExecuteTime": {
     "end_time": "2025-01-21T10:47:22.190843Z",
     "start_time": "2025-01-21T10:47:22.186471Z"
    }
   },
   "source": [
    "def forward_propagation(X, V, W):\n",
    "    \"\"\"\n",
    "    Perform forward propagation through the neural network.\n",
    "    \n",
    "    Parameters:\n",
    "    -----------\n",
    "    X : array-like\n",
    "        Input data of shape (n_samples, n_features)\n",
    "    V : array-like\n",
    "        Weight matrix for hidden layer\n",
    "    W : array-like\n",
    "        Weight matrix for output layer\n",
    "    \n",
    "    Returns:\n",
    "    --------\n",
    "    dict\n",
    "        Dictionary containing:\n",
    "        - X_bar: Input data with bias term\n",
    "        - X_bar_bar: Input to hidden layer\n",
    "        - F: Hidden layer activation\n",
    "        - F_bar: Hidden layer output with bias\n",
    "        - F_bar_bar: Input to output layer\n",
    "        - G: Network output\n",
    "        - E: Sum of Squared Error\n",
    "    \"\"\"\n",
    "    # Add bias term to input\n",
    "    X_bar = np.hstack((np.ones((X.shape[0], 1)), X))\n",
    "    \n",
    "    # Hidden layer\n",
    "    X_bar_bar = np.dot(X_bar, V)\n",
    "    F = 1 / (1 + np.exp(-X_bar_bar))  # sigmoid activation\n",
    "    F_bar = np.hstack((np.ones((F.shape[0], 1)), F))\n",
    "    F_bar_bar = np.dot(F_bar, W)\n",
    "    \n",
    "    # Output layer\n",
    "    G = 1 / (1 + np.exp(-F_bar_bar))  # Sigmoid activation\n",
    "    \n",
    "    # Create one-hot encoded target\n",
    "    y_true_onehot = np.eye(J)[data['y'].astype(int)]\n",
    "    \n",
    "    # calculate error\n",
    "    E = 0.5 * np.sum((G - y_true_onehot) ** 2)\n",
    "    \n",
    "    # Store all intermediate values\n",
    "    results = {\n",
    "        'X_bar': X_bar,\n",
    "        'X_bar_bar': X_bar_bar,\n",
    "        'F': F,\n",
    "        'F_bar': F_bar,\n",
    "        'F_bar_bar': F_bar_bar,\n",
    "        'G': G,\n",
    "        'E': E\n",
    "    }\n",
    "    \n",
    "    return results\n",
    "\n",
    "# Define network parameters\n",
    "N = 2  # input features\n",
    "K = 4  # hidden neurons\n",
    "J = len(data['y'].unique())  # output classes\n",
    "\n",
    "# Initialize weights\n",
    "V = np.random.randn(N + 1, K)\n",
    "W = np.random.randn(K + 1, J)\n",
    "\n",
    "# Prepare input data\n",
    "X = data[['x1', 'x2']].values\n",
    "\n",
    "# Perform forward propagation\n",
    "results = forward_propagation(X, V, W)\n",
    "\n",
    "print(f\"Error: {results['E']:.4f}\")"
   ],
   "execution_count": 47,
   "outputs": []
  },
  {
   "cell_type": "markdown",
   "id": "7186cc4f",
   "metadata": {},
   "source": [
    "### Affichage des matrices"
   ]
  },
  {
   "cell_type": "code",
   "id": "006cd7bf",
   "metadata": {
    "ExecuteTime": {
     "end_time": "2025-01-21T10:47:22.210898Z",
     "start_time": "2025-01-21T10:47:22.191449Z"
    }
   },
   "source": [
    "# Affichage des résultats\n",
    "def display_matrix(name, matrix):\n",
    "    \"\"\"Affiche une matrice avec un nom sous forme de DataFrame.\"\"\"\n",
    "    print(f\"\\n{name}:\")\n",
    "    display(pd.DataFrame(matrix))\n",
    "    \n",
    "X_bar = results['X_bar']\n",
    "X_bar_bar = results['X_bar_bar']\n",
    "F = results['F']\n",
    "F_bar = results['F_bar']\n",
    "F_bar_bar = results['F_bar_bar']\n",
    "G = results['G']\n",
    "E = results['E']\n",
    "\n",
    "\n",
    "# Appeler la fonction d'affichage pour chaque matrice\n",
    "display_matrix(\"X (Entrées sans biais)\", X[:5])\n",
    "display_matrix(\"X_bar (Entrées avec biais)\", X_bar[:5])\n",
    "display_matrix(\"V (Poids de l'entrée vers la couche cachée)\", V[:5])\n",
    "display_matrix(\"X_bar_bar (Produit X_bar . V)\", X_bar_bar[:5])\n",
    "display_matrix(\"F (Sorties de la couche cachée sans biais)\", F[:5])\n",
    "display_matrix(\"F_bar (Sorties de la couche cachée avec biais)\", F_bar[:5])\n",
    "display_matrix(\"W (Poids de la couche cachée vers la couche de sortie)\", W[:5])\n",
    "display_matrix(\"F_bar_bar (Produit F_bar . W)\", F_bar_bar[:5])\n",
    "display_matrix(\"G (Sorties de la couche de sortie)\", G[:5])\n",
    "\n",
    "# Affichage de l'erreur\n",
    "print(f\"\\nE (Erreur SSE): {E}\")\n"
   ],
   "execution_count": 48,
   "outputs": []
  },
  {
   "cell_type": "code",
   "id": "a8607ef9090e490f",
   "metadata": {
    "ExecuteTime": {
     "end_time": "2025-01-21T10:47:22.213713Z",
     "start_time": "2025-01-21T10:47:22.212508Z"
    }
   },
   "source": "",
   "execution_count": 48,
   "outputs": []
  }
 ],
 "metadata": {
  "kernelspec": {
   "display_name": "base",
   "language": "python",
   "name": "python3"
  },
  "language_info": {
   "codemirror_mode": {
    "name": "ipython",
    "version": 3
   },
   "file_extension": ".py",
   "mimetype": "text/x-python",
   "name": "python",
   "nbconvert_exporter": "python",
   "pygments_lexer": "ipython3",
   "version": "3.12.4"
  }
 },
 "nbformat": 4,
 "nbformat_minor": 5
}
