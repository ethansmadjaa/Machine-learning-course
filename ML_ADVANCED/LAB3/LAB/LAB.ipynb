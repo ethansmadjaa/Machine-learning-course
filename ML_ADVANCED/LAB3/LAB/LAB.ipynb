{
 "cells": [
  {
   "cell_type": "markdown",
   "id": "1465c5012aee350d",
   "metadata": {},
   "source": [
    "# Lab 3 Discriminative and generative models"
   ]
  },
  {
   "cell_type": "markdown",
   "id": "181dcf1b6110b3f4",
   "metadata": {},
   "source": []
  },
  {
   "cell_type": "markdown",
   "id": "c8f552457cb5e0a8",
   "metadata": {},
   "source": [
    "### 0. Imports"
   ]
  },
  {
   "cell_type": "code",
   "execution_count": 17,
   "id": "18cf6d1f0c03d1f8",
   "metadata": {
    "ExecuteTime": {
     "end_time": "2025-03-19T08:42:46.394543Z",
     "start_time": "2025-03-19T08:42:46.391360Z"
    }
   },
   "outputs": [],
   "source": [
    "import os\n",
    "from  collections import Counter\n",
    "import numpy as np\n",
    "import matplotlib.pyplot as plt\n"
   ]
  },
  {
   "cell_type": "markdown",
   "id": "8905d8623ee504c0",
   "metadata": {},
   "source": [
    "## 1. Divide the data in two groups: training and test examples."
   ]
  },
  {
   "cell_type": "code",
   "execution_count": 18,
   "id": "d474c492bfffed7b",
   "metadata": {},
   "outputs": [],
   "source": [
    "# Directories for training and testing data\n",
    "train_dir = './data/train-mails'\n",
    "test_dir = './data/test-mails'"
   ]
  },
  {
   "cell_type": "markdown",
   "id": "16502b1e638dae5c",
   "metadata": {},
   "source": [
    "## 2. Parse both the training and test examples to generate both the spam and ham data sets."
   ]
  },
  {
   "cell_type": "code",
   "execution_count": 19,
   "id": "6555671dc1a24420",
   "metadata": {},
   "outputs": [],
   "source": [
    "def parse_emails(directory):\n",
    "    \"\"\"Parse emails from a directory and categorize as spam or ham based on filename prefix\n",
    "    \n",
    "    Args:\n",
    "        directory (str): Directory containing email files\n",
    "        \n",
    "    Returns:\n",
    "        tuple: (ham_emails, spam_emails) lists of file paths\n",
    "    \"\"\"\n",
    "    ham_emails = []\n",
    "    spam_emails = []\n",
    "    \n",
    "    # Get all files in the directory\n",
    "    for filename in os.listdir(directory):\n",
    "        filepath = os.path.join(directory, filename)\n",
    "        \n",
    "        # Check if it's spam or ham based on filename prefix\n",
    "        # In the ling-spam dataset, filenames starting with 'spmsg' are spam\n",
    "        if filename.startswith('spmsg'):\n",
    "            spam_emails.append(filepath)\n",
    "        else:\n",
    "            ham_emails.append(filepath)\n",
    "    \n",
    "    return ham_emails, spam_emails\n"
   ]
  },
  {
   "cell_type": "code",
   "execution_count": 20,
   "id": "c4ae16ab",
   "metadata": {},
   "outputs": [
    {
     "name": "stdout",
     "output_type": "stream",
     "text": [
      "Training data: 351 ham emails, 351 spam emails\n",
      "Test data: 130 ham emails, 130 spam emails\n"
     ]
    }
   ],
   "source": [
    "# Parse training emails\n",
    "train_ham_emails, train_spam_emails = parse_emails(train_dir)\n",
    "print(f\"Training data: {len(train_ham_emails)} ham emails, {len(train_spam_emails)} spam emails\")\n",
    "\n",
    "# Parse test emails\n",
    "test_ham_emails, test_spam_emails = parse_emails(test_dir)\n",
    "print(f\"Test data: {len(test_ham_emails)} ham emails, {len(test_spam_emails)} spam emails\")\n"
   ]
  },
  {
   "cell_type": "markdown",
   "id": "bc6ecba59c78a31",
   "metadata": {},
   "source": [
    "## 3. Generate a dictionary from the training data."
   ]
  },
  {
   "cell_type": "code",
   "execution_count": 21,
   "id": "ce3fc4ba729505dd",
   "metadata": {},
   "outputs": [],
   "source": [
    "# Function to create a dictionary from email text data\n",
    "def make_Dictionary(train_dir):\n",
    "    emails = [os.path.join(train_dir, f) for f in os.listdir(train_dir)]\n",
    "    all_words = []\n",
    "    for mail in emails:\n",
    "        with open(mail, encoding='latin1') as m:\n",
    "            for i, line in enumerate(m):\n",
    "                if i == 2:  # Usually, the 3rd line contains useful content\n",
    "                    words = line.split()\n",
    "                    all_words += words\n",
    "\n",
    "    dictionary = Counter(all_words)\n",
    "\n",
    "    # Removing non-alphabetic words and single-character words\n",
    "    for item in list(dictionary):\n",
    "        if not item.isalpha() or len(item) == 1:\n",
    "            del dictionary[item]\n",
    "\n",
    "    \n",
    "    return dictionary"
   ]
  },
  {
   "cell_type": "code",
   "execution_count": 22,
   "id": "8fbee4edaac1a937",
   "metadata": {},
   "outputs": [],
   "source": [
    "train_dictionary = make_Dictionary(train_dir)"
   ]
  },
  {
   "cell_type": "code",
   "execution_count": 23,
   "id": "ec596339",
   "metadata": {},
   "outputs": [
    {
     "name": "stdout",
     "output_type": "stream",
     "text": [
      "16883\n"
     ]
    }
   ],
   "source": [
    "# print the number of keys in the dictionary\n",
    "print(len(train_dictionary))"
   ]
  },
  {
   "cell_type": "markdown",
   "id": "60154dc7405390c3",
   "metadata": {},
   "source": [
    "## 4. Extract features from both the training data and test data."
   ]
  },
  {
   "cell_type": "code",
   "execution_count": 24,
   "id": "2a3f10e9d5ac5cb9",
   "metadata": {},
   "outputs": [],
   "source": [
    "def extract_features(mail_dir, dictionary):\n",
    "    files = [os.path.join(mail_dir, fi) for fi in os.listdir(mail_dir)]\n",
    "    # Use the actual size of the dictionary instead of a fixed 3000\n",
    "    dict_size = len(dictionary)\n",
    "    features_matrix = np.zeros((len(files), dict_size))\n",
    "\n",
    "    # Convert dictionary to list for indexing\n",
    "    dictionary_list = list(dictionary.keys())\n",
    "\n",
    "    for docID, fil in enumerate(files):\n",
    "        with open(fil, encoding='utf-8') as fi:\n",
    "            for i, line in enumerate(fi):\n",
    "                if i == 2:  # Usually the subject/content line\n",
    "                    words = line.split()\n",
    "                    for word in words:\n",
    "                        # Check if word is in dictionary\n",
    "                        if word in dictionary:\n",
    "                            wordID = dictionary_list.index(word)\n",
    "                            features_matrix[docID, wordID] = words.count(word)\n",
    "\n",
    "    return features_matrix"
   ]
  },
  {
   "cell_type": "code",
   "execution_count": 25,
   "id": "28a4cbec",
   "metadata": {},
   "outputs": [
    {
     "name": "stdout",
     "output_type": "stream",
     "text": [
      "[[1. 1. 2. ... 0. 0. 0.]\n",
      " [0. 0. 0. ... 0. 0. 0.]\n",
      " [0. 0. 0. ... 0. 0. 0.]\n",
      " ...\n",
      " [0. 0. 0. ... 0. 0. 0.]\n",
      " [0. 0. 0. ... 0. 0. 0.]\n",
      " [0. 0. 0. ... 1. 1. 1.]]\n"
     ]
    }
   ],
   "source": [
    "train_features = extract_features(train_dir, train_dictionary)\n",
    "print(train_features)"
   ]
  },
  {
   "cell_type": "code",
   "execution_count": 26,
   "id": "51d1e0de",
   "metadata": {},
   "outputs": [
    {
     "name": "stdout",
     "output_type": "stream",
     "text": [
      "[[0. 0. 0. ... 0. 0. 0.]\n",
      " [0. 0. 0. ... 0. 0. 0.]\n",
      " [0. 0. 0. ... 0. 0. 0.]\n",
      " ...\n",
      " [0. 0. 0. ... 0. 0. 0.]\n",
      " [0. 0. 0. ... 0. 0. 0.]\n",
      " [0. 0. 0. ... 0. 0. 0.]]\n"
     ]
    }
   ],
   "source": [
    "test_features = extract_features(test_dir, train_dictionary)\n",
    "print(test_features)"
   ]
  },
  {
   "cell_type": "markdown",
   "id": "2fb6d6f6bf713272",
   "metadata": {},
   "source": [
    "## 5. Implement the Naïve Bayes from scratch, and fit it to the training data."
   ]
  },
  {
   "cell_type": "code",
   "execution_count": 27,
   "id": "35e9e7875fce691a",
   "metadata": {},
   "outputs": [],
   "source": [
    "class NaiveBayes:\n",
    "    def __init__(self, alpha=1.0):\n",
    "        self.classes = ['ham', 'spam']\n",
    "        self.class_prior = {}\n",
    "        self.class_conditional_prob = {}\n",
    "        self.vocab_size = 0\n",
    "        self.alpha = alpha\n",
    "    \n",
    "    def fit(self, train_features, y):\n",
    "        \"\"\"\n",
    "        Fit the Naive Bayes classifier to the training data\n",
    "        \n",
    "        Args:\n",
    "            train_features: Feature matrix (document-term matrix)\n",
    "            y: Labels ('ham' or 'spam')\n",
    "        \"\"\"\n",
    "        n_samples, n_features = train_features.shape\n",
    "        self.vocab_size = n_features\n",
    "        \n",
    "        # Calculate class priors\n",
    "        class_counts = {}\n",
    "        for class_label in self.classes:\n",
    "            class_counts[class_label] = sum(1 for label in y if label == class_label)\n",
    "            self.class_prior[class_label] = class_counts[class_label] / n_samples\n",
    "            \n",
    "        # Initialize class conditional probabilities\n",
    "        self.class_conditional_prob = {}\n",
    "        for class_label in self.classes:\n",
    "            self.class_conditional_prob[class_label] = np.zeros(n_features)\n",
    "            \n",
    "        # Calculate class conditional probabilities with Laplace smoothing\n",
    "        for class_label in self.classes:\n",
    "            # Get indices of samples belonging to class c\n",
    "            class_indices = [i for i in range(n_samples) if y[i] == class_label]\n",
    "            \n",
    "            # Sum word occurrences for class_label\n",
    "            train_features_per_class = train_features[class_indices]\n",
    "            word_counts_per_class = np.sum(train_features_per_class, axis=0)\n",
    "\n",
    "            \n",
    "            # Calculate conditional probabilities with Laplace smoothing\n",
    "            total_words_per_class = np.sum(word_counts_per_class)\n",
    "            self.class_conditional_prob[class_label] = (word_counts_per_class + self.alpha) / (total_words_per_class + self.alpha * self.vocab_size)\n",
    "    def predict(self, train_features):\n",
    "        \"\"\"\n",
    "        Predict class labels for samples in X\n",
    "        \n",
    "        Args:\n",
    "            train_features: Feature matrix (document-term matrix)\n",
    "            \n",
    "        Returns:\n",
    "            list: Predicted labels ('ham' or 'spam')\n",
    "        \"\"\"\n",
    "        predictions = []\n",
    "        \n",
    "        for features in train_features:\n",
    "            # Calculate posterior probability for each class \n",
    "            posteriors = {}\n",
    "            for class_label in self.classes:\n",
    "                # Start with log of prior probability\n",
    "                log_posterior = np.log(self.class_prior[class_label])\n",
    "                \n",
    "                # Add log of conditional probabilities (using log to avoid underflow)\n",
    "                # Only consider non-zero features to improve efficiency\n",
    "                for i in range(len(features)):\n",
    "                    if features[i] > 0:\n",
    "                        # If the word appears in the document, add log(P(word|class)) * count\n",
    "                        log_posterior += features[i] * np.log(self.class_conditional_prob[class_label][i])\n",
    "                \n",
    "                posteriors[class_label] = log_posterior\n",
    "            \n",
    "            # Choose class with highest posterior probability\n",
    "            predictions.append(max(posteriors, key=posteriors.get))\n",
    "        \n",
    "        return predictions\n",
    "    \n",
    "    def plot_confusion_matrix(self, y_true, y_pred):\n",
    "        \n",
    "        # Calculate confusion matrix manually\n",
    "        cm = np.zeros((2,2))\n",
    "        for i in range(len(y_true)):\n",
    "            if y_true[i] == y_pred[i] == 'ham':\n",
    "                cm[0,0] += 1 \n",
    "            elif y_true[i] == y_pred[i] == 'spam':\n",
    "                cm[1,1] += 1\n",
    "            elif y_true[i] == 'ham' and y_pred[i] == 'spam':\n",
    "                cm[0,1] += 1\n",
    "            else:\n",
    "                cm[1,0] += 1\n",
    "                \n",
    "        plt.figure(figsize=(10, 7))\n",
    "        \n",
    "        # Create a matplotlib heatmap instead of using seaborn\n",
    "        plt.imshow(cm, interpolation='nearest', cmap=plt.cm.Blues)\n",
    "        plt.title('Confusion Matrix')\n",
    "        plt.colorbar()\n",
    "        \n",
    "        # Add labels\n",
    "        tick_marks = np.arange(len(self.classes))\n",
    "        plt.xticks(tick_marks, self.classes)\n",
    "        plt.yticks(tick_marks, self.classes)\n",
    "        \n",
    "        # Add text annotations\n",
    "        thresh = cm.max() / 2\n",
    "        for i in range(cm.shape[0]):\n",
    "            for j in range(cm.shape[1]):\n",
    "                plt.text(j, i, format(cm[i, j], 'g'),\n",
    "                         ha=\"center\", va=\"center\",\n",
    "                         color=\"white\" if cm[i, j] > thresh else \"black\")\n",
    "        \n",
    "        plt.xlabel('Predicted labels')\n",
    "        plt.ylabel('True labels')\n",
    "        plt.tight_layout()\n",
    "        plt.show()\n",
    "        \n",
    "        # Calculate metrics\n",
    "        accuracy = (cm[0,0] + cm[1,1]) / np.sum(cm)\n",
    "        precision = cm[1,1] / (cm[1,1] + cm[0,1]) if (cm[1,1] + cm[0,1]) > 0 else 0\n",
    "        recall = cm[1,1] / (cm[1,1] + cm[1,0]) if (cm[1,1] + cm[1,0]) > 0 else 0\n",
    "        f1 = 2 * precision * recall / (precision + recall) if (precision + recall) > 0 else 0\n",
    "        \n",
    "        print(f\"Accuracy: {accuracy:.4f}\")\n",
    "        print(f\"Precision: {precision:.4f}\")\n",
    "        print(f\"Recall: {recall:.4f}\")\n",
    "        print(f\"F1 Score: {f1:.4f}\")\n",
    "        \n",
    "    def predict_proba(self, train_features):\n",
    "        \"\"\"\n",
    "        Predict probability estimates for samples in X\n",
    "        \n",
    "        Args:\n",
    "            X: Feature matrix (document-term matrix)\n",
    "            \n",
    "        Returns:\n",
    "            array: Probability estimates for spam class\n",
    "        \"\"\"\n",
    "        proba = []\n",
    "        \n",
    "        for features in train_features:\n",
    "            # Calculate posterior probability for each class (in log space)\n",
    "            posteriors = {}\n",
    "            for class_label in self.classes:\n",
    "                # Start with log of prior probability\n",
    "                log_posterior = np.log(self.class_prior[class_label])\n",
    "                \n",
    "                # Add log of conditional probabilities\n",
    "                for i in range(len(features)):\n",
    "                    if features[i] > 0:\n",
    "                        log_posterior += features[i] * np.log(self.class_conditional_prob[class_label][i])\n",
    "                \n",
    "                posteriors[class_label] = log_posterior\n",
    "            \n",
    "            # Convert log probabilities to actual probabilities\n",
    "            # First, get the maximum log probability to avoid numerical issues\n",
    "            max_log_prob = max(posteriors.values())\n",
    "            exp_posteriors = {c: np.exp(p - max_log_prob) for c, p in posteriors.items()}\n",
    "            \n",
    "            # Normalize to get probabilities that sum to 1\n",
    "            total = sum(exp_posteriors.values())\n",
    "            normalized_posteriors = {c: p / total for c, p in exp_posteriors.items()}\n",
    "            \n",
    "            # Return probability for spam class\n",
    "            proba.append(normalized_posteriors['spam'])\n",
    "        \n",
    "        return np.array(proba)\n",
    "    \n",
    "    def plot_roc_curve(self, train_features, y_true):\n",
    "        \"\"\"\n",
    "        Plot ROC curve with TPR on vertical axis and FPR on horizontal axis\n",
    "        \n",
    "        Args:\n",
    "            X: Feature matrix (document-term matrix)\n",
    "            y_true: True labels ('ham' or 'spam')\n",
    "        \"\"\"\n",
    "        # Get probability estimates for spam class\n",
    "        y_scores = self.predict_proba(train_features)\n",
    "        \n",
    "        # Convert labels to binary (1 for spam, 0 for ham)\n",
    "        y_binary = np.array([1 if label == 'spam' else 0 for label in y_true])\n",
    "        \n",
    "        # Calculate ROC curve\n",
    "        thresholds = np.sort(np.unique(y_scores))\n",
    "        thresholds = np.append(thresholds, 1.0 + 1e-10)  # Add an extra threshold at the end\n",
    "        \n",
    "        tpr_values = []\n",
    "        fpr_values = []\n",
    "        \n",
    "        for threshold in thresholds:\n",
    "            # Predict based on threshold\n",
    "            y_pred = (y_scores >= threshold).astype(int)\n",
    "            \n",
    "            # Calculate TP, FP, TN, FN\n",
    "            tp = np.sum((y_binary == 1) & (y_pred == 1))\n",
    "            fp = np.sum((y_binary == 0) & (y_pred == 1))\n",
    "            tn = np.sum((y_binary == 0) & (y_pred == 0))\n",
    "            fn = np.sum((y_binary == 1) & (y_pred == 0))\n",
    "            \n",
    "            # Calculate TPR and FPR\n",
    "            tpr = tp / (tp + fn) if (tp + fn) > 0 else 0\n",
    "            fpr = fp / (fp + tn) if (fp + tn) > 0 else 0\n",
    "            \n",
    "            tpr_values.append(tpr)\n",
    "            fpr_values.append(fpr)\n",
    "        \n",
    "        # Plot ROC curve\n",
    "        plt.figure(figsize=(10, 7))\n",
    "        plt.plot(fpr_values, tpr_values, lw=2, label='ROC curve')\n",
    "        plt.plot([0, 1], [0, 1], 'k--', lw=2, label='Random classifier')\n",
    "        \n",
    "        # Calculate area under the curve (AUC)\n",
    "        auc = 0\n",
    "        for i in range(len(fpr_values) - 1):\n",
    "            auc += abs((fpr_values[i+1] - fpr_values[i]) * (tpr_values[i+1] + tpr_values[i]) / 2)\n",
    "        \n",
    "        plt.xlim([0.0, 1.0])\n",
    "        plt.ylim([0.0, 1.05])\n",
    "        plt.xlabel('False Positive Rate')\n",
    "        plt.ylabel('True Positive Rate')\n",
    "        plt.title(f'Receiver Operating Characteristic (ROC) Curve - AUC: {auc:.4f}')\n",
    "        plt.legend(loc=\"lower right\")\n",
    "        plt.grid(True)\n",
    "        plt.show()\n",
    "        \n",
    "        return auc"
   ]
  },
  {
   "cell_type": "code",
   "execution_count": 28,
   "id": "d490d2f3",
   "metadata": {},
   "outputs": [],
   "source": [
    "# Prepare labels for training data\n",
    "train_labels = []\n",
    "for filename in os.listdir(train_dir):\n",
    "    if filename.startswith('spmsg'):\n",
    "        train_labels.append('spam')\n",
    "    else:\n",
    "        train_labels.append('ham')\n",
    "\n",
    "# Prepare labels for test data\n",
    "test_labels = []\n",
    "for filename in os.listdir(test_dir):\n",
    "    if filename.startswith('spmsg'):\n",
    "        test_labels.append('spam')\n",
    "    else:\n",
    "        test_labels.append('ham')\n"
   ]
  },
  {
   "cell_type": "code",
   "execution_count": 46,
   "id": "5f39e490",
   "metadata": {},
   "outputs": [],
   "source": [
    "naive_bayes = NaiveBayes(alpha=1.0)\n",
    "naive_bayes.fit(train_features, train_labels)"
   ]
  },
  {
   "cell_type": "markdown",
   "id": "66c10935212920a6",
   "metadata": {},
   "source": [
    "## 6. Make predictions for the test data."
   ]
  },
  {
   "cell_type": "code",
   "execution_count": 47,
   "id": "da2a1056d46af119",
   "metadata": {},
   "outputs": [],
   "source": [
    "test_predictions = naive_bayes.predict(test_features)"
   ]
  },
  {
   "cell_type": "markdown",
   "id": "d9eb899b5c2e2e9b",
   "metadata": {},
   "source": [
    "## 7. Measure the spam-filtering performance for each approach through the confusion matrix,\n",
    "accuracy, precision, recall, and F1 score."
   ]
  },
  {
   "cell_type": "code",
   "execution_count": 48,
   "id": "89f805107cc3676c",
   "metadata": {},
   "outputs": [
    {
     "data": {
      "image/png": "[encoded data removed]",
      "text/plain": [
       "<Figure size 1000x700 with 2 Axes>"
      ]
     },
     "metadata": {},
     "output_type": "display_data"
    },
    {
     "name": "stdout",
     "output_type": "stream",
     "text": [
      "Accuracy: 0.9846\n",
      "Precision: 0.9922\n",
      "Recall: 0.9769\n",
      "F1 Score: 0.9845\n"
     ]
    }
   ],
   "source": [
    "naive_bayes.plot_confusion_matrix(test_labels, test_predictions)"
   ]
  },
  {
   "cell_type": "markdown",
   "id": "128eaa9a9c36f2a4",
   "metadata": {},
   "source": [
    "## 8. Plot a graph with true positive rate on the vertical axis and with false positive rate on the horizontal axis"
   ]
  },
  {
   "cell_type": "code",
   "execution_count": 32,
   "id": "cc1583ec01d418f6",
   "metadata": {},
   "outputs": [
    {
     "data": {
      "image/png": "[encoded data removed]",
      "text/plain": [
       "<Figure size 1000x700 with 1 Axes>"
      ]
     },
     "metadata": {},
     "output_type": "display_data"
    },
    {
     "name": "stdout",
     "output_type": "stream",
     "text": [
      "Area Under ROC Curve (AUC): 0.9975\n"
     ]
    }
   ],
   "source": [
    "auc = naive_bayes.plot_roc_curve(test_features, test_labels)\n",
    "print(f\"Area Under ROC Curve (AUC): {auc:.4f}\")"
   ]
  },
  {
   "cell_type": "markdown",
   "id": "e3b5d114c9e08007",
   "metadata": {},
   "source": [
    "## 9. Discuss the results"
   ]
  },
  {
   "cell_type": "markdown",
   "id": "7ad435d17905e64e",
   "metadata": {},
   "source": []
  }
 ],
 "metadata": {
  "kernelspec": {
   "display_name": "base",
   "language": "python",
   "name": "python3"
  },
  "language_info": {
   "codemirror_mode": {
    "name": "ipython",
    "version": 3
   },
   "file_extension": ".py",
   "mimetype": "text/x-python",
   "name": "python",
   "nbconvert_exporter": "python",
   "pygments_lexer": "ipython3",
   "version": "3.12.4"
  }
 },
 "nbformat": 4,
 "nbformat_minor": 5
}
