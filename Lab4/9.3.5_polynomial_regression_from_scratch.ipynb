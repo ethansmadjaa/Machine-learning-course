{
 "cells": [
  {
   "cell_type": "markdown",
   "metadata": {},
   "source": [
    "        <b>Exercise: Implementing Polynomial Regression from Scratch with Diabetes Dataset</b>\n",
    "\n",
    "\n",
    "<b>Objective:</b>\n",
    "\n",
    "Implement polynomial regression from scratch using the Diabetes dataset to understand how to extend linear regression for capturing non-linear relationships.\n",
    "\n",
    "<b>Step 1: Load and Explore the Dataset</b>\n",
    "\n",
    "Load the Diabetes dataset and explore its features. Familiarize yourself with the dataset structure and the target variable (disease progression one year after baseline)."
   ]
  },
  {
   "cell_type": "code",
   "metadata": {
    "ExecuteTime": {
     "end_time": "2024-11-04T16:43:23.512836Z",
     "start_time": "2024-11-04T16:43:23.508829Z"
    }
   },
   "source": [
    "import numpy as np\n",
    "from sklearn.datasets import load_diabetes\n",
    "from sklearn.model_selection import train_test_split\n",
    "from sklearn.preprocessing import StandardScaler\n",
    "\n",
    "# Load the diabetes dataset\n",
    "diabetes = load_diabetes()\n",
    "data, target = diabetes.data, diabetes.target"
   ],
   "outputs": [],
   "execution_count": 4
  },
  {
   "cell_type": "markdown",
   "metadata": {},
   "source": [
    "<b>Step 2: Split the Dataset</b>\n",
    "\n",
    "Split the dataset into training and testing sets. This will allow us to train the model on one subset and evaluate its performance on another."
   ]
  },
  {
   "cell_type": "code",
   "metadata": {
    "ExecuteTime": {
     "end_time": "2024-11-04T16:43:23.515781Z",
     "start_time": "2024-11-04T16:43:23.513704Z"
    }
   },
   "source": [
    "# Split the dataset into training and testing sets\n",
    "X_train, X_test, y_train, y_test = train_test_split(data, target, test_size=0.2, random_state=42)"
   ],
   "outputs": [],
   "execution_count": 5
  },
  {
   "cell_type": "code",
   "metadata": {
    "ExecuteTime": {
     "end_time": "2024-11-04T16:43:23.526123Z",
     "start_time": "2024-11-04T16:43:23.523869Z"
    }
   },
   "source": [
    "# Scale the data\n",
    "scaler = StandardScaler()\n",
    "X_train = scaler.fit_transform(X_train)\n",
    "X_test = scaler.transform(X_test)"
   ],
   "outputs": [],
   "execution_count": 6
  },
  {
   "cell_type": "markdown",
   "metadata": {},
   "source": [
    "<b>Step 3: Implement Polynomial Features Function</b>\n",
    "\n",
    "Implement a function to transform the input features into polynomial features of a given degree. This function will take the original features and create new features by raising them to different powers."
   ]
  },
  {
   "cell_type": "code",
   "metadata": {
    "ExecuteTime": {
     "end_time": "2024-11-04T16:43:23.537464Z",
     "start_time": "2024-11-04T16:43:23.534986Z"
    }
   },
   "source": [
    "def polynomial_features(X, degree):\n",
    "    \"\"\"\n",
    "    Generate polynomial features for input data X up to a given degree.\n",
    "    \"\"\"\n",
    "    from itertools import combinations_with_replacement\n",
    "    import numpy as np\n",
    "\n",
    "    n_samples, n_features = X.shape\n",
    "    # Start with bias term (intercept)\n",
    "    X_poly = np.ones((n_samples, 1))\n",
    "\n",
    "    for deg in range(1, degree + 1):\n",
    "        for items in combinations_with_replacement(range(n_features), deg):\n",
    "            X_new = np.prod(X[:, items], axis=1).reshape(-1, 1)\n",
    "            X_poly = np.hstack((X_poly, X_new))\n",
    "\n",
    "    return X_poly\n"
   ],
   "outputs": [],
   "execution_count": 7
  },
  {
   "cell_type": "markdown",
   "metadata": {},
   "source": [
    "<b>Step 4: Implement Polynomial Regression Class</b>\n",
    "\n",
    "Create a class for polynomial linear regression with methods for fitting the model and making predictions. Use mean squared error as the cost function and gradient descent for optimization."
   ]
  },
  {
   "cell_type": "code",
   "metadata": {
    "ExecuteTime": {
     "end_time": "2024-11-04T16:43:23.540780Z",
     "start_time": "2024-11-04T16:43:23.538516Z"
    }
   },
   "source": [
    "class PolynomialRegression:\n",
    "    def __init__(self, degree, learning_rate=0.001, n_iterations=1000):\n",
    "        self.degree = degree\n",
    "        self.learning_rate = learning_rate\n",
    "        self.n_iterations = n_iterations\n",
    "        self.weights = None\n",
    "\n",
    "    def polynomial_features(self, X):\n",
    "        return polynomial_features(X, self.degree)\n",
    "\n",
    "    def fit(self, X, y):\n",
    "        X_poly = self.polynomial_features(X)\n",
    "        n_samples, n_features = X_poly.shape\n",
    "        # Initialize weights\n",
    "        self.weights = np.zeros(n_features)\n",
    "\n",
    "        # Gradient Descent\n",
    "        for _ in range(self.n_iterations):\n",
    "            y_pred = X_poly.dot(self.weights)\n",
    "            errors = y_pred - y\n",
    "            gradient = (2 / n_samples) * X_poly.T.dot(errors)\n",
    "            self.weights -= self.learning_rate * gradient\n",
    "\n",
    "    def predict(self, X):\n",
    "        X_poly = self.polynomial_features(X)\n",
    "        return X_poly.dot(self.weights)\n"
   ],
   "outputs": [],
   "execution_count": 8
  },
  {
   "cell_type": "markdown",
   "metadata": {},
   "source": [
    "<b>Step 5: Train and Evaluate the Model</b>\n",
    "\n",
    "Instantiate the <i>'PolynomialRegression'</i> class, fit the model to the training set, and evaluate its performance on the test set."
   ]
  },
  {
   "cell_type": "code",
   "metadata": {
    "ExecuteTime": {
     "end_time": "2024-11-04T16:44:40.387751Z",
     "start_time": "2024-11-04T16:44:40.202918Z"
    }
   },
   "source": [
    "# Instantiate and train the polynomial regression model\n",
    "model = PolynomialRegression(degree=2, learning_rate=0.001, n_iterations=100)\n",
    "model.fit(X_train, y_train)\n",
    "\n",
    "# Make predictions on the test set\n",
    "predictions = model.predict(X_test)\n",
    "\n",
    "# Evaluate the model (calculate and print mean squared error)\n",
    "mse = np.mean((predictions - y_test) ** 2)\n",
    "print(f\"Mean Squared Error on Test Set: {mse}\")"
   ],
   "outputs": [
    {
     "name": "stdout",
     "output_type": "stream",
     "text": [
      "Mean Squared Error on Test Set: 6660.786220859313\n"
     ]
    }
   ],
   "execution_count": 13
  },
  {
   "metadata": {},
   "cell_type": "code",
   "outputs": [],
   "execution_count": null,
   "source": ""
  }
 ],
 "metadata": {
  "kernelspec": {
   "display_name": "base",
   "language": "python",
   "name": "python3"
  },
  "language_info": {
   "codemirror_mode": {
    "name": "ipython",
    "version": 3
   },
   "file_extension": ".py",
   "mimetype": "text/x-python",
   "name": "python",
   "nbconvert_exporter": "python",
   "pygments_lexer": "ipython3",
   "version": "3.12.4"
  }
 },
 "nbformat": 4,
 "nbformat_minor": 2
}
