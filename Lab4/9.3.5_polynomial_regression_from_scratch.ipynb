{
 "cells": [
  {
   "cell_type": "markdown",
   "metadata": {},
   "source": [
    "# Exercise: Implementing Polynomial Regression from Scratch with Diabetes Dataset\n",
    "\n",
    "\n",
    "## Objective:\n",
    "\n",
    "Implement polynomial regression from scratch using the Diabetes dataset to understand how to extend linear regression for capturing non-linear relationships.\n",
    "\n",
    "### Step 1: Load and Explore the Dataset\n",
    "\n",
    "Load the Diabetes dataset and explore its features. Familiarize yourself with the dataset structure and the target variable (disease progression one year after baseline)."
   ]
  },
  {
   "cell_type": "code",
   "metadata": {
    "ExecuteTime": {
     "end_time": "2024-11-07T14:22:47.543776Z",
     "start_time": "2024-11-07T14:22:45.371279Z"
    }
   },
   "source": [
    "import numpy as np\n",
    "import pandas as pd\n",
    "from sklearn.datasets import load_diabetes\n",
    "from sklearn.model_selection import train_test_split\n",
    "from sklearn.preprocessing import StandardScaler\n",
    "\n",
    "# Load the diabetes dataset\n",
    "diabetes = load_diabetes()\n",
    "df = pd.DataFrame(data=diabetes.data, columns=diabetes.feature_names)"
   ],
   "outputs": [],
   "execution_count": 1
  },
  {
   "cell_type": "markdown",
   "metadata": {},
   "source": [
    "### Step 2: Split the Dataset\n",
    "\n",
    "Split the dataset into training and testing sets. This will allow us to train the model on one subset and evaluate its performance on another."
   ]
  },
  {
   "cell_type": "code",
   "metadata": {
    "ExecuteTime": {
     "end_time": "2024-11-07T14:22:47.546904Z",
     "start_time": "2024-11-07T14:22:47.544735Z"
    }
   },
   "source": [
    "# Split the dataset into training and testing sets\n",
    "X_train, X_test, y_train, y_test = train_test_split(df, test_size=0.2, random_state=42)"
   ],
   "outputs": [],
   "execution_count": 2
  },
  {
   "cell_type": "code",
   "metadata": {
    "ExecuteTime": {
     "end_time": "2024-11-07T14:22:47.549937Z",
     "start_time": "2024-11-07T14:22:47.547596Z"
    }
   },
   "source": [
    "# Scale the data\n",
    "scaler = StandardScaler()\n",
    "X_train = scaler.fit_transform(X_train)\n",
    "X_test = scaler.transform(X_test)"
   ],
   "outputs": [],
   "execution_count": 3
  },
  {
   "cell_type": "markdown",
   "metadata": {},
   "source": [
    "### Step 3: Implement Polynomial Features Function\n",
    "\n",
    "Implement a function to transform the input features into polynomial features of a given degree. This function will take the original features and create new features by raising them to different powers."
   ]
  },
  {
   "cell_type": "code",
   "metadata": {
    "ExecuteTime": {
     "end_time": "2024-11-07T14:22:47.553187Z",
     "start_time": "2024-11-07T14:22:47.551323Z"
    }
   },
   "source": [
    "def polynomial_features(X, degree = 2):\n",
    "    numerical_columns = X.select_dtypes(include=[np.number]).columns\n",
    "\n",
    "    # Create polynomial features up to the specified degree\n",
    "    for col in numerical_columns:\n",
    "        for d in range(2, degree + 1):\n",
    "            new_col_name = f\"{col}^{d}\"\n",
    "            X[new_col_name] = X[col] ** d\n",
    "    return X"
   ],
   "outputs": [],
   "execution_count": 4
  },
  {
   "cell_type": "markdown",
   "metadata": {},
   "source": [
    "### Step 4: Implement Polynomial Regression Class \n",
    "\n",
    "Create a class for polynomial linear regression with methods for fitting the model and making predictions. Use mean squared error as the cost function and gradient descent for optimization."
   ]
  },
  {
   "cell_type": "code",
   "metadata": {
    "ExecuteTime": {
     "end_time": "2024-11-07T14:22:47.556929Z",
     "start_time": "2024-11-07T14:22:47.553700Z"
    }
   },
   "source": [
    "class PolynomialRegression:\n",
    "    def __init__(self, degree, learning_rate=0.001, n_iterations=1000):\n",
    "        \n",
    "\n",
    "    def polynomial_features(self, X):\n",
    "       X = polynomial_features(X)\n",
    "\n",
    "    def fit(self, X, y):\n",
    "       \n"
   ],
   "outputs": [],
   "execution_count": 5
  },
  {
   "cell_type": "markdown",
   "metadata": {},
   "source": [
    "### Step 5: Train and Evaluate the Model\n",
    "\n",
    "Instantiate the $PolynomialRegression$ class, fit the model to the training set, and evaluate its performance on the test set."
   ]
  },
  {
   "cell_type": "code",
   "metadata": {
    "ExecuteTime": {
     "end_time": "2024-11-07T14:22:47.591977Z",
     "start_time": "2024-11-07T14:22:47.557456Z"
    }
   },
   "source": [
    "# Instantiate and train the polynomial regression model\n",
    "model = PolynomialRegression(degree=2, learning_rate=0.001, n_iterations=100)\n",
    "model.fit(X_train, y_train)\n",
    "\n",
    "# Make predictions on the test set\n",
    "predictions = model.predict(X_test)\n",
    "\n",
    "# Evaluate the model (calculate and print mean squared error)\n",
    "mse = np.mean((predictions - y_test) ** 2)\n",
    "print(f\"Mean Squared Error on Test Set: {mse}\")"
   ],
   "outputs": [
    {
     "name": "stdout",
     "output_type": "stream",
     "text": [
      "Mean Squared Error on Test Set: 6660.786220859313\n"
     ]
    }
   ],
   "execution_count": 6
  }
 ],
 "metadata": {
  "kernelspec": {
   "display_name": "base",
   "language": "python",
   "name": "python3"
  },
  "language_info": {
   "codemirror_mode": {
    "name": "ipython",
    "version": 3
   },
   "file_extension": ".py",
   "mimetype": "text/x-python",
   "name": "python",
   "nbconvert_exporter": "python",
   "pygments_lexer": "ipython3",
   "version": "3.12.4"
  }
 },
 "nbformat": 4,
 "nbformat_minor": 2
}
