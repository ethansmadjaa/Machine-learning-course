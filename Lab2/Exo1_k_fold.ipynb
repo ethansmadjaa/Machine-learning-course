{
 "cells": [
  {
   "attachments": {},
   "cell_type": "markdown",
   "metadata": {},
   "source": [
    "# K-fold cross validation\n",
    "\n",
    "Implement a random k-fold cross validation algorithm from scratch.\n",
    "\n",
    "Your algorithm should:\n",
    "- load the iris dataset and split its columns into features and target\n",
    "- split the dataset into k-fold to perform cross validation\n",
    "\n",
    "You can use the code bellow to implement your algorithm or implement yourself from scratch.\n",
    "\n"
   ]
  },
  {
   "cell_type": "code",
   "metadata": {
    "ExecuteTime": {
     "end_time": "2024-10-14T15:20:38.070429Z",
     "start_time": "2024-10-14T15:20:38.063659Z"
    }
   },
   "source": [
    "import numpy as np\n",
    "from sklearn.datasets import load_iris\n",
    "from sklearn.utils import shuffle\n",
    "\n",
    "# load the iris dataset\n",
    "iris = load_iris()\n",
    "X = iris.data\n",
    "y = iris.target\n",
    "\n",
    "def k_fold_cross_validation(X, y, k, model):\n",
    "    X_shuffled, y_shuffled = shuffle(X, y, random_state=42)\n",
    "    \n",
    "    n_samples = len(X)\n",
    "    fold_size = n_samples // k\n",
    "    \n",
    "    accuracies = []\n",
    "\n",
    "    for i in range(k):\n",
    "        start, end = i * fold_size, (i + 1) * fold_size\n",
    "        X_test, y_test = X_shuffled[start:end], y_shuffled[start:end]\n",
    "        X_train = np.concatenate([X_shuffled[:start], X_shuffled[end:]], axis=0)\n",
    "        y_train = np.concatenate([y_shuffled[:start], y_shuffled[end:]], axis=0)\n",
    "        \n",
    "        model.fit(X_train, y_train)\n",
    "        y_pred = model.predict(X_test)\n",
    "        accuracy = np.mean(y_pred == y_test)\n",
    "        accuracies.append(accuracy)\n",
    "    \n",
    "    return np.mean(accuracies)"
   ],
   "outputs": [],
   "execution_count": 4
  },
  {
   "metadata": {
    "ExecuteTime": {
     "end_time": "2024-10-14T15:20:38.609595Z",
     "start_time": "2024-10-14T15:20:38.607314Z"
    }
   },
   "cell_type": "code",
   "source": "",
   "outputs": [],
   "execution_count": 4
  },
  {
   "cell_type": "code",
   "metadata": {
    "ExecuteTime": {
     "end_time": "2024-10-14T15:20:39.213420Z",
     "start_time": "2024-10-14T15:20:39.032034Z"
    }
   },
   "source": [
    "#You can use the code below to test your function\n",
    "\n",
    "#import the random forest model\n",
    "from sklearn.ensemble import RandomForestClassifier\n",
    "\n",
    "# we will use the random forest model\n",
    "model = RandomForestClassifier()\n",
    "\n",
    "# we will use the k_fold_cross_validation function\n",
    "k_fold_cross_validation(X, y, 5, model)"
   ],
   "outputs": [
    {
     "data": {
      "text/plain": [
       "0.9600000000000002"
      ]
     },
     "execution_count": 5,
     "metadata": {},
     "output_type": "execute_result"
    }
   ],
   "execution_count": 5
  },
  {
   "metadata": {},
   "cell_type": "code",
   "outputs": [],
   "execution_count": null,
   "source": ""
  }
 ],
 "metadata": {
  "kernelspec": {
   "display_name": "base",
   "language": "python",
   "name": "python3"
  },
  "language_info": {
   "codemirror_mode": {
    "name": "ipython",
    "version": 3
   },
   "file_extension": ".py",
   "mimetype": "text/x-python",
   "name": "python",
   "nbconvert_exporter": "python",
   "pygments_lexer": "ipython3",
   "version": "3.11.5"
  },
  "orig_nbformat": 4,
  "vscode": {
   "interpreter": {
    "hash": "ad2bdc8ecc057115af97d19610ffacc2b4e99fae6737bb82f5d7fb13d2f2c186"
   }
  }
 },
 "nbformat": 4,
 "nbformat_minor": 2
}
