{
 "cells": [
  {
   "cell_type": "markdown",
   "metadata": {},
   "source": [
    "<b> Implementing Linear Regression from Scratch with California Housing Dataset </b>\n",
    "\n",
    "Objective:\n",
    "This exercise aims to provide a hands-on experience in implementing linear regression from scratch using the California housing dataset. You will gain a deeper understanding of the inner workings of linear regression, including the concepts of cost function, and gradient descent optimization.\n",
    "\n",
    "<b>Steps:</b>\n",
    "\n",
    "1- Load the California Housing Dataset:\n",
    "\n",
    "- Use the fetch_california_housing function from scikit-learn to load the dataset."
   ]
  },
  {
   "cell_type": "code",
   "metadata": {
    "ExecuteTime": {
     "end_time": "2024-10-12T12:08:35.777431Z",
     "start_time": "2024-10-12T12:08:34.767490Z"
    }
   },
   "source": [
    "import numpy as np\n",
    "from sklearn.datasets import fetch_california_housing\n",
    "from sklearn.model_selection import train_test_split\n",
    "from sklearn.preprocessing import StandardScaler"
   ],
   "outputs": [],
   "execution_count": 1
  },
  {
   "cell_type": "code",
   "metadata": {
    "ExecuteTime": {
     "end_time": "2024-10-12T12:08:35.786506Z",
     "start_time": "2024-10-12T12:08:35.778326Z"
    }
   },
   "source": [
    "# Load the California housing dataset\n",
    "housing = fetch_california_housing()\n",
    "data, target = housing.data, housing.target"
   ],
   "outputs": [],
   "execution_count": 2
  },
  {
   "cell_type": "code",
   "metadata": {
    "ExecuteTime": {
     "end_time": "2024-10-12T12:08:35.788724Z",
     "start_time": "2024-10-12T12:08:35.787050Z"
    }
   },
   "source": [
    "# explore the data\n",
    "print(data.shape)\n",
    "print(target.shape)\n",
    "print(housing.DESCR)"
   ],
   "outputs": [
    {
     "name": "stdout",
     "output_type": "stream",
     "text": [
      "(20640, 8)\n",
      "(20640,)\n",
      ".. _california_housing_dataset:\n",
      "\n",
      "California Housing dataset\n",
      "--------------------------\n",
      "\n",
      "**Data Set Characteristics:**\n",
      "\n",
      ":Number of Instances: 20640\n",
      "\n",
      ":Number of Attributes: 8 numeric, predictive attributes and the target\n",
      "\n",
      ":Attribute Information:\n",
      "    - MedInc        median income in block group\n",
      "    - HouseAge      median house age in block group\n",
      "    - AveRooms      average number of rooms per household\n",
      "    - AveBedrms     average number of bedrooms per household\n",
      "    - Population    block group population\n",
      "    - AveOccup      average number of household members\n",
      "    - Latitude      block group latitude\n",
      "    - Longitude     block group longitude\n",
      "\n",
      ":Missing Attribute Values: None\n",
      "\n",
      "This dataset was obtained from the StatLib repository.\n",
      "https://www.dcc.fc.up.pt/~ltorgo/Regression/cal_housing.html\n",
      "\n",
      "The target variable is the median house value for California districts,\n",
      "expressed in hundreds of thousands of dollars ($100,000).\n",
      "\n",
      "This dataset was derived from the 1990 U.S. census, using one row per census\n",
      "block group. A block group is the smallest geographical unit for which the U.S.\n",
      "Census Bureau publishes sample data (a block group typically has a population\n",
      "of 600 to 3,000 people).\n",
      "\n",
      "A household is a group of people residing within a home. Since the average\n",
      "number of rooms and bedrooms in this dataset are provided per household, these\n",
      "columns may take surprisingly large values for block groups with few households\n",
      "and many empty houses, such as vacation resorts.\n",
      "\n",
      "It can be downloaded/loaded using the\n",
      ":func:`sklearn.datasets.fetch_california_housing` function.\n",
      "\n",
      ".. topic:: References\n",
      "\n",
      "    - Pace, R. Kelley and Ronald Barry, Sparse Spatial Autoregressions,\n",
      "      Statistics and Probability Letters, 33 (1997) 291-297\n",
      "\n"
     ]
    }
   ],
   "execution_count": 3
  },
  {
   "cell_type": "markdown",
   "metadata": {},
   "source": [
    "2- Data Preprocessing:\n",
    "\n",
    "- Add a bias term to the input features.\n",
    "- Split the dataset into training and testing sets."
   ]
  },
  {
   "cell_type": "code",
   "metadata": {
    "ExecuteTime": {
     "end_time": "2024-10-12T12:08:35.793077Z",
     "start_time": "2024-10-12T12:08:35.789751Z"
    }
   },
   "source": [
    "# Add a bias term to the input features\n",
    "data_bias = np.c_[np.ones((data.shape[0], 1)), data]\n",
    "\n",
    "# Split the dataset into training and testing sets\n",
    "X_train, X_test, y_train, y_test = train_test_split(data_bias, target, test_size=0.2, random_state=42)"
   ],
   "outputs": [],
   "execution_count": 4
  },
  {
   "cell_type": "markdown",
   "metadata": {},
   "source": [
    "3- Standardization:\n",
    "\n",
    "- Standardize the input features using StandardScaler from scikit-learn."
   ]
  },
  {
   "cell_type": "code",
   "metadata": {
    "ExecuteTime": {
     "end_time": "2024-10-12T12:08:35.796790Z",
     "start_time": "2024-10-12T12:08:35.793569Z"
    }
   },
   "source": [
    "# Standardize the input features\n",
    "scaler = StandardScaler()\n",
    "X_train_scaled = scaler.fit_transform(X_train)\n",
    "X_test_scaled = scaler.transform(X_test)"
   ],
   "outputs": [],
   "execution_count": 5
  },
  {
   "cell_type": "markdown",
   "metadata": {},
   "source": [
    "4- Linear Regression Implementation:\n",
    "\n",
    "- Implement a simple linear regression class with methods for fitting the model and making predictions.\n",
    "- Use mean squared error as the cost function.\n",
    "- Utilize gradient descent for optimization."
   ]
  },
  {
   "cell_type": "code",
   "metadata": {
    "ExecuteTime": {
     "end_time": "2024-10-12T12:08:35.799802Z",
     "start_time": "2024-10-12T12:08:35.797341Z"
    }
   },
   "source": [
    "# Linear regression implementation from scratch\n",
    "class LinearRegression:\n",
    "    def __init__(self, learning_rate=0.01, n_iterations=10000):\n",
    "        self.learning_rate = learning_rate  \n",
    "        self.n_iterations = n_iterations  \n",
    "        #I first tried initializing it to 0 but since we are creating a numpy array in the fit function, there is a type error,\n",
    "        #so I have to put it at None, which represent no variable type\n",
    "        self.theta_0=None\n",
    "        self.theta_n = None\n",
    "\n",
    "    def fit(self, X, y):\n",
    "        #Here I'm just retrieving the result of the shape function into two variables:\n",
    "        #n_samples (number of line), and n_features (number of column)\n",
    "        n_samples, n_features = X.shape\n",
    "        \n",
    "        #The interest of creating a numpy array, is that every time I make an operation on it,\n",
    "        #I do not have to iterate between every row, its done automatically with Numpy's vectorisation\n",
    "        #and update each value according to the calcul made more efficiently than itterating.\n",
    "        #we are putting it at the size of n_features, cause according to the formula:\n",
    "        #y= theta_0 + theta_1*x + ... + theta_n*x, the number of thetas is the number features\n",
    "        self.theta_0 = 0\n",
    "        self.theta_n = np.zeros(n_features)\n",
    "        \n",
    "        for _ in range(self.n_iterations):\n",
    "            #At the beginning of each iterration we calculate the prediction value\n",
    "            #for each ad every value of 'self.theta', th result is an array of the size n_samples\n",
    "            y_pred = self.theta_0 + np.dot(X, self.theta_n)\n",
    "            \n",
    "            # This is the gradient of the cost function, ( go to next comment ) \n",
    "            MSE_gradient_0 = (1/n_samples)*np.sum(y_pred-y)\n",
    "            MSE_gradient_n = (1 / n_samples) * np.dot(X.T, (y_pred - y)) \n",
    "            \n",
    "            \n",
    "            # that we use here to calculate each and every theta\n",
    "            self.theta_n -= self.learning_rate * MSE_gradient_n\n",
    "            self.theta_0 -= self.learning_rate * MSE_gradient_0\n",
    "\n",
    "    def predict(self, X):\n",
    "        # Here I calculate the predicted values for the input data using each theta and return it\n",
    "        return  self.theta_0 +np.dot(X, self.theta_n)"
   ],
   "outputs": [],
   "execution_count": 6
  },
  {
   "cell_type": "markdown",
   "metadata": {},
   "source": [
    "5- Training the Model:\n",
    "\n",
    "- Instantiate the linear regression model.\n",
    "- Train the model on the training set using the implemented gradient descent algorithm."
   ]
  },
  {
   "cell_type": "code",
   "metadata": {
    "ExecuteTime": {
     "end_time": "2024-10-12T12:08:38.163305Z",
     "start_time": "2024-10-12T12:08:35.800261Z"
    }
   },
   "source": [
    "# Instantiate and train the model\n",
    "model = LinearRegression(learning_rate=0.05, n_iterations=10000)\n",
    "model.fit(X_train_scaled, y_train)"
   ],
   "outputs": [],
   "execution_count": 7
  },
  {
   "cell_type": "markdown",
   "metadata": {},
   "source": [
    "6- Prediction and Evaluation:\n",
    "\n",
    "- Make predictions on the test set.\n",
    "- Evaluate the model's performance using mean squared error."
   ]
  },
  {
   "cell_type": "code",
   "metadata": {
    "ExecuteTime": {
     "end_time": "2024-10-12T12:08:38.178592Z",
     "start_time": "2024-10-12T12:08:38.165899Z"
    }
   },
   "source": [
    "# Make predictions on the test set\n",
    "predictions = model.predict(X_test_scaled)\n",
    "\n",
    "# Evaluate the model\n",
    "mse = np.mean((predictions - y_test)**2)\n",
    "print(f\"Mean Squared Error on Test Set: {mse}\")"
   ],
   "outputs": [
    {
     "name": "stdout",
     "output_type": "stream",
     "text": [
      "Mean Squared Error on Test Set: 0.5558915986959896\n"
     ]
    }
   ],
   "execution_count": 8
  },
  {
   "metadata": {
    "ExecuteTime": {
     "end_time": "2024-10-12T12:08:38.198472Z",
     "start_time": "2024-10-12T12:08:38.184263Z"
    }
   },
   "cell_type": "code",
   "source": "",
   "outputs": [],
   "execution_count": 8
  }
 ],
 "metadata": {
  "kernelspec": {
   "display_name": "base",
   "language": "python",
   "name": "python3"
  },
  "language_info": {
   "codemirror_mode": {
    "name": "ipython",
    "version": 3
   },
   "file_extension": ".py",
   "mimetype": "text/x-python",
   "name": "python",
   "nbconvert_exporter": "python",
   "pygments_lexer": "ipython3",
   "version": "3.9.18"
  }
 },
 "nbformat": 4,
 "nbformat_minor": 2
}
